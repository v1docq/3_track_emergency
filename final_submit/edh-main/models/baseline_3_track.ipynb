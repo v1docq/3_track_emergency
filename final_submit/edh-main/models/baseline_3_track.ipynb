{
 "cells": [
  {
   "cell_type": "markdown",
   "metadata": {},
   "source": [
    "# <center> Прототип решения по Треку 3:</center> <center> «Предсказание вероятности возникновения ДТП»</center>"
   ]
  },
  {
   "cell_type": "markdown",
   "metadata": {},
   "source": [
    "## Постановка задачи"
   ]
  },
  {
   "cell_type": "markdown",
   "metadata": {},
   "source": [
    "Разработать алгоритм прогнозирующий наиболее вероятную категорию события дорожно-транспортного происшествия (далее по тексту «ДТП»):\n",
    "\n",
    ">1. ДТП не произойдет\n",
    ">1. ДТП произойдет без пострадавших\n",
    ">1. ДТП произойдет с пострадавшими\n",
    "\n",
    "Данные для обучения — информация о ДТП от ГИБДД и ВНИИ ГОЧС, а также дополнительные данные по интенсивности движения, метеоусловиях на участках дороги и др. В качестве федеральных автомобильных дорог рассматриваются М-8 «Холмогоры» и Р-21 «Кола»."
   ]
  },
  {
   "cell_type": "markdown",
   "metadata": {},
   "source": [
    "## Прототип решения"
   ]
  },
  {
   "cell_type": "code",
   "execution_count": 8,
   "metadata": {
    "execution": {
     "iopub.execute_input": "2021-05-28T18:36:46.417958Z",
     "iopub.status.busy": "2021-05-28T18:36:46.417679Z",
     "iopub.status.idle": "2021-05-28T18:36:46.425351Z",
     "shell.execute_reply": "2021-05-28T18:36:46.424355Z",
     "shell.execute_reply.started": "2021-05-28T18:36:46.417928Z"
    }
   },
   "outputs": [],
   "source": [
    "%matplotlib inline\n",
    "import pandas as pd\n",
    "import matplotlib.pyplot as plt\n",
    "import seaborn as sns\n",
    "from datetime import datetime, timedelta\n",
    "from sklearn import svm\n",
    "from sklearn.model_selection import train_test_split\n",
    "from sklearn.preprocessing import MinMaxScaler\n",
    "import numpy as np\n",
    "import re\n",
    "import functools\n",
    "from geopy.distance import geodesic\n",
    "from sklearn.metrics import roc_auc_score\n",
    "from sklearn.metrics import f1_score\n",
    "import numpy as np"
   ]
  },
  {
   "cell_type": "code",
   "execution_count": 9,
   "metadata": {
    "execution": {
     "iopub.execute_input": "2021-05-28T18:36:46.427708Z",
     "iopub.status.busy": "2021-05-28T18:36:46.427166Z",
     "iopub.status.idle": "2021-05-28T18:36:46.439875Z",
     "shell.execute_reply": "2021-05-28T18:36:46.438814Z",
     "shell.execute_reply.started": "2021-05-28T18:36:46.427660Z"
    }
   },
   "outputs": [],
   "source": [
    "import os\n",
    "DATA_PATH = \"../data/3_track/\"\n",
    "\n",
    "pd.set_option(\"display.max_rows\", None)\n",
    "pd.set_option(\"display.max_colwidth\", None)\n",
    "pd.set_option(\"display.max_columns\", None)"
   ]
  },
  {
   "cell_type": "markdown",
   "metadata": {
    "tags": []
   },
   "source": [
    "### 1. Подготовка датасета для обучения модели"
   ]
  },
  {
   "cell_type": "code",
   "execution_count": 10,
   "metadata": {
    "execution": {
     "iopub.execute_input": "2021-05-28T18:36:46.442618Z",
     "iopub.status.busy": "2021-05-28T18:36:46.442256Z",
     "iopub.status.idle": "2021-05-28T18:36:46.604647Z",
     "shell.execute_reply": "2021-05-28T18:36:46.604002Z",
     "shell.execute_reply.started": "2021-05-28T18:36:46.442572Z"
    }
   },
   "outputs": [
    {
     "data": {
      "text/html": [
       "<div>\n",
       "<style scoped>\n",
       "    .dataframe tbody tr th:only-of-type {\n",
       "        vertical-align: middle;\n",
       "    }\n",
       "\n",
       "    .dataframe tbody tr th {\n",
       "        vertical-align: top;\n",
       "    }\n",
       "\n",
       "    .dataframe thead th {\n",
       "        text-align: right;\n",
       "    }\n",
       "</style>\n",
       "<table border=\"1\" class=\"dataframe\">\n",
       "  <thead>\n",
       "    <tr style=\"text-align: right;\">\n",
       "      <th></th>\n",
       "      <th>datetime</th>\n",
       "      <th>road_id</th>\n",
       "      <th>road_km</th>\n",
       "      <th>data_source</th>\n",
       "      <th>target</th>\n",
       "    </tr>\n",
       "  </thead>\n",
       "  <tbody>\n",
       "    <tr>\n",
       "      <th>0</th>\n",
       "      <td>2012-01-01 12:00:00</td>\n",
       "      <td>14</td>\n",
       "      <td>1276</td>\n",
       "      <td>gochs</td>\n",
       "      <td>2</td>\n",
       "    </tr>\n",
       "    <tr>\n",
       "      <th>1</th>\n",
       "      <td>2012-01-01 22:00:00</td>\n",
       "      <td>9</td>\n",
       "      <td>278</td>\n",
       "      <td>gochs</td>\n",
       "      <td>2</td>\n",
       "    </tr>\n",
       "  </tbody>\n",
       "</table>\n",
       "</div>"
      ],
      "text/plain": [
       "             datetime  road_id  road_km data_source  target\n",
       "0 2012-01-01 12:00:00       14     1276       gochs       2\n",
       "1 2012-01-01 22:00:00        9      278       gochs       2"
      ]
     },
     "execution_count": 10,
     "metadata": {},
     "output_type": "execute_result"
    }
   ],
   "source": [
    "df = pd.read_csv(os.path.join(DATA_PATH, 'train.csv'), usecols=[0, 1, 2, 9, 10], parse_dates=['datetime'])\n",
    "df = df.sort_values('datetime', ascending=True)\n",
    "df.reset_index(drop=True, inplace=True)\n",
    "df.head(2)"
   ]
  },
  {
   "cell_type": "markdown",
   "metadata": {},
   "source": [
    "#### Тренеровочный датасет (`train.csv`):\n",
    "> 1. **datetime** - дата события в формате `yyyy-MM-dd hh-mm-ss`\n",
    "> 1. **road_id** - код автодороги, принимает одно из трех значений:\n",
    ">    * 5 — М-4 (E115) “Дон” Москва - Новороссийск;\n",
    ">    * 9 — М-8 (E115) “Холмогоры” Москва - Архангельск через Ярославль, Вологду;\n",
    ">    * 4 — М-18 / Р-21 (E105) “Кола” С.Петербург - Мурманск через Петрозаводск.\n",
    "> 1. **road_km** - км участка на котором произошло ДТП\n",
    "> 1. **data_source** - источник данных события. В датасете атрибут принимает одно из двух значений:\n",
    ">    * gibdd - ГИБДД;\n",
    ">    * gochs - МЧС.\n",
    "> 1. **target** - целевой признак является ли событие ДТП. В датасете атрибут принимает одно из четырех значений:\n",
    ">    * 1 - ДТП без пострадавших;\n",
    ">    * 2 - ДТП с пострадавшими;\n",
    ">    * 3 - ЧС (объявляется от 5 погибших и/или 10 пострадавших)* в тестовой выборке события отсутствуют0 - событие не является ДТП;"
   ]
  },
  {
   "cell_type": "code",
   "execution_count": 11,
   "metadata": {
    "execution": {
     "iopub.execute_input": "2021-05-28T18:36:46.605645Z",
     "iopub.status.busy": "2021-05-28T18:36:46.605514Z",
     "iopub.status.idle": "2021-05-28T18:36:46.616057Z",
     "shell.execute_reply": "2021-05-28T18:36:46.615164Z",
     "shell.execute_reply.started": "2021-05-28T18:36:46.605630Z"
    }
   },
   "outputs": [
    {
     "name": "stdout",
     "output_type": "stream",
     "text": [
      "<class 'pandas.core.frame.DataFrame'>\n",
      "RangeIndex: 109737 entries, 0 to 109736\n",
      "Data columns (total 5 columns):\n",
      " #   Column       Non-Null Count   Dtype         \n",
      "---  ------       --------------   -----         \n",
      " 0   datetime     109737 non-null  datetime64[ns]\n",
      " 1   road_id      109737 non-null  int64         \n",
      " 2   road_km      109737 non-null  int64         \n",
      " 3   data_source  109737 non-null  object        \n",
      " 4   target       109737 non-null  int64         \n",
      "dtypes: datetime64[ns](1), int64(3), object(1)\n",
      "memory usage: 4.2+ MB\n"
     ]
    }
   ],
   "source": [
    "df.info()"
   ]
  },
  {
   "cell_type": "code",
   "execution_count": 12,
   "metadata": {
    "execution": {
     "iopub.execute_input": "2021-05-28T18:36:46.616980Z",
     "iopub.status.busy": "2021-05-28T18:36:46.616830Z",
     "iopub.status.idle": "2021-05-28T18:36:46.633214Z",
     "shell.execute_reply": "2021-05-28T18:36:46.632664Z",
     "shell.execute_reply.started": "2021-05-28T18:36:46.616961Z"
    }
   },
   "outputs": [
    {
     "name": "stdout",
     "output_type": "stream",
     "text": [
      "Временной интервал наблюдений: от 2012-01-01 12:00:00 до 2021-04-05 11:00:00\n",
      "Кол-во наблюдений по источникам данных: ГИБДД - 94678, МЧС 15059\n"
     ]
    }
   ],
   "source": [
    "start = df.datetime.min()\n",
    "end = df.datetime.max()\n",
    "print(\"Временной интервал наблюдений: от {} до {}\".format(start,end))\n",
    "gibdd = df.groupby('data_source')['road_id'].count()[0]\n",
    "mchs = df.groupby('data_source')['road_id'].count()[1]\n",
    "print(\"Кол-во наблюдений по источникам данных: ГИБДД - {}, МЧС {}\".format(gibdd,mchs))"
   ]
  },
  {
   "cell_type": "code",
   "execution_count": 13,
   "metadata": {
    "execution": {
     "iopub.execute_input": "2021-05-28T18:36:46.633953Z",
     "iopub.status.busy": "2021-05-28T18:36:46.633833Z",
     "iopub.status.idle": "2021-05-28T18:36:47.123584Z",
     "shell.execute_reply": "2021-05-28T18:36:47.123157Z",
     "shell.execute_reply.started": "2021-05-28T18:36:46.633938Z"
    }
   },
   "outputs": [
    {
     "data": {
      "image/png": "[encoded data removed]",
      "text/plain": [
       "<Figure size 1224x1152 with 3 Axes>"
      ]
     },
     "metadata": {
      "needs_background": "light"
     },
     "output_type": "display_data"
    }
   ],
   "source": [
    "# распределение ДТП в расрезе трех трасс\n",
    "fig, ax = plt.subplots(figsize=(17,16), ncols=1, nrows=3)\n",
    "\n",
    "road_5 = df.drop(df[df[\"road_id\"]==5].index)\n",
    "road_9 = df.drop(df[df[\"road_id\"]==9].index)\n",
    "road_14 = df.drop(df[df[\"road_id\"]==14].index)\n",
    "\n",
    "dtp_day_5 = road_5[['datetime', 'target']].set_index('datetime').resample('D').count()['target']\n",
    "dtp_day_9 = road_9[['datetime', 'target']].set_index('datetime').resample('D').count()['target']\n",
    "dtp_day_14 = road_14[['datetime', 'target']].set_index('datetime').resample('D').count()['target']\n",
    "\n",
    "dtp_day_5.plot(color='tab:cyan', ax=ax[0]).set_ylabel('Кол-во ДТП в сутки', fontsize=13)\n",
    "dtp_day_9.plot(color='tab:blue', ax=ax[1]).set_ylabel('Кол-во ДТП в сутки', fontsize=13)\n",
    "dtp_day_14.plot(color='tab:orange', ax=ax[2]).set_ylabel('Кол-во ДТП в сутки', fontsize=13)\n",
    "\n",
    "ax[0].set_title('Кол-во ДТП в сутки на трассе М-4',loc='center', fontsize=16)\n",
    "ax[1].set_title('Кол-во ДТП в сутки на трассе М-8',loc='center', fontsize=16)\n",
    "ax[2].set_title('Кол-во ДТП в сутки на трассе Р-21',loc='center', fontsize=16)\n",
    "plt.show()"
   ]
  },
  {
   "cell_type": "markdown",
   "metadata": {},
   "source": [
    "На временном интервале от 2012-01-01 до 2021-04-05 можно наблюдать разброс в количестве аварий по дням в разрезе лет: так, с 2016 года суточный показатель ДТП значительно больше по каждой из рассматриваемых трасс. Такой разброс объясняетсся различной представленностью данных МЧС (15059) и ГИБДД (94678 наблюдений) с отсутствием последних на интервале 2012-2015 гг. (см. график ниже). "
   ]
  },
  {
   "cell_type": "code",
   "execution_count": 14,
   "metadata": {
    "execution": {
     "iopub.execute_input": "2021-05-28T18:36:47.124358Z",
     "iopub.status.busy": "2021-05-28T18:36:47.124163Z",
     "iopub.status.idle": "2021-05-28T18:36:47.364898Z",
     "shell.execute_reply": "2021-05-28T18:36:47.364363Z",
     "shell.execute_reply.started": "2021-05-28T18:36:47.124343Z"
    }
   },
   "outputs": [
    {
     "data": {
      "image/png": "[encoded data removed]",
      "text/plain": [
       "<Figure size 1224x216 with 1 Axes>"
      ]
     },
     "metadata": {
      "needs_background": "light"
     },
     "output_type": "display_data"
    }
   ],
   "source": [
    "fig, ax = plt.subplots(figsize=(17,3))\n",
    "plt.scatter(road_9['datetime'], road_9['data_source'])\n",
    "ax.set_title('Представленность данных о ДТП в разрезе источников',loc='center', fontsize=16)\n",
    "plt.show()"
   ]
  },
  {
   "cell_type": "markdown",
   "metadata": {},
   "source": [
    "Для дальнейшего обучения модели **выберем данные о ДТП по трассе М-8**. Рассмотрим ситуацию для значений переменной `target` 1 и 2, исключив ЧС. Выберем период наблюдения с 2019-01-01 по 2020-12-31, заполним промежутки между наблюдениями на всем временном интервале нулевыми значениями с шагом в один час, присвоив значения 0 (событие не является ДТП) переменной `target`, и обогатим исходную выборку переменными из других датасетов."
   ]
  },
  {
   "cell_type": "code",
   "execution_count": 15,
   "metadata": {
    "execution": {
     "iopub.execute_input": "2021-05-28T18:36:47.365524Z",
     "iopub.status.busy": "2021-05-28T18:36:47.365418Z",
     "iopub.status.idle": "2021-05-28T18:36:47.373581Z",
     "shell.execute_reply": "2021-05-28T18:36:47.373267Z",
     "shell.execute_reply.started": "2021-05-28T18:36:47.365510Z"
    }
   },
   "outputs": [
    {
     "name": "stdout",
     "output_type": "stream",
     "text": [
      "<class 'pandas.core.frame.DataFrame'>\n",
      "Int64Index: 19514 entries, 82782 to 109371\n",
      "Data columns (total 3 columns):\n",
      " #   Column    Non-Null Count  Dtype         \n",
      "---  ------    --------------  -----         \n",
      " 0   datetime  19514 non-null  datetime64[ns]\n",
      " 1   road_km   19514 non-null  int64         \n",
      " 2   target    19514 non-null  int64         \n",
      "dtypes: datetime64[ns](1), int64(2)\n",
      "memory usage: 609.8 KB\n"
     ]
    }
   ],
   "source": [
    "# исключение из выборки ЧС и определение временного интервала\n",
    "condition1 = (road_9[\"target\"]!=3)\n",
    "condition2 = (road_9['datetime'] > '2019-01-01')\n",
    "condition3 = (road_9['datetime'] < '2020-12-31')\n",
    "road_9 = road_9[(condition1 & condition2 & condition3)]\n",
    "road_9 = road_9[['datetime','road_km','target']]\n",
    "road_9.info()"
   ]
  },
  {
   "cell_type": "markdown",
   "metadata": {},
   "source": [
    "#### Обагащение выборки переменными из датасетов `traffic.csv`, `repair.csv`"
   ]
  },
  {
   "cell_type": "code",
   "execution_count": 16,
   "metadata": {
    "execution": {
     "iopub.execute_input": "2021-05-28T18:36:47.374807Z",
     "iopub.status.busy": "2021-05-28T18:36:47.374641Z",
     "iopub.status.idle": "2021-05-28T18:36:51.821025Z",
     "shell.execute_reply": "2021-05-28T18:36:51.820587Z",
     "shell.execute_reply.started": "2021-05-28T18:36:47.374792Z"
    }
   },
   "outputs": [],
   "source": [
    "traffic = pd.read_csv(os.path.join(DATA_PATH, 'traffic.csv'), usecols=[0, 1, 2, 4, 5, 9, 10, 11], parse_dates=['datetime'])\n",
    "repair = pd.read_csv(os.path.join(DATA_PATH, 'repair.csv'), parse_dates=['datetime'])"
   ]
  },
  {
   "cell_type": "code",
   "execution_count": 17,
   "metadata": {
    "execution": {
     "iopub.execute_input": "2021-05-28T18:36:51.821920Z",
     "iopub.status.busy": "2021-05-28T18:36:51.821807Z",
     "iopub.status.idle": "2021-05-28T18:36:51.889290Z",
     "shell.execute_reply": "2021-05-28T18:36:51.888927Z",
     "shell.execute_reply.started": "2021-05-28T18:36:51.821907Z"
    }
   },
   "outputs": [],
   "source": [
    "# фильтр датасетов traffic.csv, repair.csv по заданным уловиям\n",
    "condition1 = (repair[\"road_id\"]==9)\n",
    "condition2 = (repair['datetime'] == '2019-01-01') | (repair['datetime'] == '2020-01-01')\n",
    "repair = repair[condition1 & condition2]\n",
    "\n",
    "condition1 = (traffic[\"road_id\"]==9)\n",
    "condition2 = (traffic['datetime'] > '2020-01-01')\n",
    "condition3 = (traffic['datetime'] < '2020-12-31')\n",
    "traffic = traffic[condition1 & condition2 & condition3]"
   ]
  },
  {
   "cell_type": "code",
   "execution_count": 18,
   "metadata": {
    "execution": {
     "iopub.execute_input": "2021-05-28T18:36:51.889931Z",
     "iopub.status.busy": "2021-05-28T18:36:51.889817Z",
     "iopub.status.idle": "2021-05-28T18:36:51.892466Z",
     "shell.execute_reply": "2021-05-28T18:36:51.891776Z",
     "shell.execute_reply.started": "2021-05-28T18:36:51.889918Z"
    }
   },
   "outputs": [],
   "source": [
    "def hour_rounder(t):\n",
    "    return (t.replace(second=0, microsecond=0, minute=0, hour=t.hour)\n",
    "               +timedelta(hours=t.minute//30))"
   ]
  },
  {
   "cell_type": "code",
   "execution_count": 19,
   "metadata": {
    "execution": {
     "iopub.execute_input": "2021-05-28T18:36:51.893125Z",
     "iopub.status.busy": "2021-05-28T18:36:51.893022Z",
     "iopub.status.idle": "2021-05-28T18:36:56.939145Z",
     "shell.execute_reply": "2021-05-28T18:36:56.938579Z",
     "shell.execute_reply.started": "2021-05-28T18:36:51.893112Z"
    }
   },
   "outputs": [],
   "source": [
    "# округление переменной datetime до часа\n",
    "traffic['datetime'] = traffic['datetime'].map(lambda x: hour_rounder(x))"
   ]
  },
  {
   "cell_type": "code",
   "execution_count": 20,
   "metadata": {
    "execution": {
     "iopub.execute_input": "2021-05-28T18:36:56.939820Z",
     "iopub.status.busy": "2021-05-28T18:36:56.939705Z",
     "iopub.status.idle": "2021-05-28T18:36:57.120427Z",
     "shell.execute_reply": "2021-05-28T18:36:57.119924Z",
     "shell.execute_reply.started": "2021-05-28T18:36:56.939805Z"
    }
   },
   "outputs": [
    {
     "data": {
      "text/html": [
       "<div>\n",
       "<style scoped>\n",
       "    .dataframe tbody tr th:only-of-type {\n",
       "        vertical-align: middle;\n",
       "    }\n",
       "\n",
       "    .dataframe tbody tr th {\n",
       "        vertical-align: top;\n",
       "    }\n",
       "\n",
       "    .dataframe thead th {\n",
       "        text-align: right;\n",
       "    }\n",
       "</style>\n",
       "<table border=\"1\" class=\"dataframe\">\n",
       "  <thead>\n",
       "    <tr style=\"text-align: right;\">\n",
       "      <th></th>\n",
       "      <th>datetime</th>\n",
       "      <th>road_km</th>\n",
       "      <th>target</th>\n",
       "      <th>road_id</th>\n",
       "      <th>data_id</th>\n",
       "      <th>station_id</th>\n",
       "      <th>volume</th>\n",
       "      <th>occupancy</th>\n",
       "      <th>speed</th>\n",
       "    </tr>\n",
       "  </thead>\n",
       "  <tbody>\n",
       "    <tr>\n",
       "      <th>11303</th>\n",
       "      <td>2020-01-09 19:00:00</td>\n",
       "      <td>363</td>\n",
       "      <td>1.0</td>\n",
       "      <td>9.0</td>\n",
       "      <td>34963662.0</td>\n",
       "      <td>41122.0</td>\n",
       "      <td>286.0</td>\n",
       "      <td>2.94</td>\n",
       "      <td>52.47</td>\n",
       "    </tr>\n",
       "    <tr>\n",
       "      <th>11304</th>\n",
       "      <td>2020-01-09 19:00:00</td>\n",
       "      <td>363</td>\n",
       "      <td>1.0</td>\n",
       "      <td>9.0</td>\n",
       "      <td>34963662.0</td>\n",
       "      <td>41122.0</td>\n",
       "      <td>228.0</td>\n",
       "      <td>2.03</td>\n",
       "      <td>60.50</td>\n",
       "    </tr>\n",
       "  </tbody>\n",
       "</table>\n",
       "</div>"
      ],
      "text/plain": [
       "                 datetime  road_km  target  road_id     data_id  station_id  \\\n",
       "11303 2020-01-09 19:00:00      363     1.0      9.0  34963662.0     41122.0   \n",
       "11304 2020-01-09 19:00:00      363     1.0      9.0  34963662.0     41122.0   \n",
       "\n",
       "       volume  occupancy  speed  \n",
       "11303   286.0       2.94  52.47  \n",
       "11304   228.0       2.03  60.50  "
      ]
     },
     "execution_count": 20,
     "metadata": {},
     "output_type": "execute_result"
    }
   ],
   "source": [
    "# объединение датасета с данными о ДТП с данными о трафике\n",
    "tmp = pd.merge(road_9, traffic, how='outer', on=['datetime', 'road_km'])\n",
    "condition1 = (tmp['target'].isnull()) & (tmp['data_id'].isnull())\n",
    "condition2 = ~(tmp['target'].isnull()) & (tmp['data_id'].isnull())\n",
    "tmp = tmp.drop(tmp[condition1].index)\n",
    "tmp = tmp.drop(tmp[condition2].index)\n",
    "tmp = tmp.fillna(0)\n",
    "tmp.head(2)"
   ]
  },
  {
   "cell_type": "code",
   "execution_count": 21,
   "metadata": {
    "execution": {
     "iopub.execute_input": "2021-05-28T18:36:57.121207Z",
     "iopub.status.busy": "2021-05-28T18:36:57.121099Z",
     "iopub.status.idle": "2021-05-28T18:36:59.305315Z",
     "shell.execute_reply": "2021-05-28T18:36:59.304321Z",
     "shell.execute_reply.started": "2021-05-28T18:36:57.121195Z"
    }
   },
   "outputs": [
    {
     "data": {
      "text/html": [
       "<div>\n",
       "<style scoped>\n",
       "    .dataframe tbody tr th:only-of-type {\n",
       "        vertical-align: middle;\n",
       "    }\n",
       "\n",
       "    .dataframe tbody tr th {\n",
       "        vertical-align: top;\n",
       "    }\n",
       "\n",
       "    .dataframe thead th {\n",
       "        text-align: right;\n",
       "    }\n",
       "</style>\n",
       "<table border=\"1\" class=\"dataframe\">\n",
       "  <thead>\n",
       "    <tr style=\"text-align: right;\">\n",
       "      <th></th>\n",
       "      <th>datetime</th>\n",
       "      <th>road_km</th>\n",
       "      <th>target</th>\n",
       "      <th>road_id</th>\n",
       "      <th>data_id</th>\n",
       "      <th>station_id</th>\n",
       "      <th>volume</th>\n",
       "      <th>occupancy</th>\n",
       "      <th>speed</th>\n",
       "      <th>year</th>\n",
       "      <th>repair</th>\n",
       "    </tr>\n",
       "  </thead>\n",
       "  <tbody>\n",
       "    <tr>\n",
       "      <th>11303</th>\n",
       "      <td>2020-01-09 19:00:00</td>\n",
       "      <td>363</td>\n",
       "      <td>1.0</td>\n",
       "      <td>9.0</td>\n",
       "      <td>34963662.0</td>\n",
       "      <td>41122.0</td>\n",
       "      <td>286.0</td>\n",
       "      <td>2.94</td>\n",
       "      <td>52.47</td>\n",
       "      <td>2020</td>\n",
       "      <td>1.0</td>\n",
       "    </tr>\n",
       "    <tr>\n",
       "      <th>11304</th>\n",
       "      <td>2020-01-09 19:00:00</td>\n",
       "      <td>363</td>\n",
       "      <td>1.0</td>\n",
       "      <td>9.0</td>\n",
       "      <td>34963662.0</td>\n",
       "      <td>41122.0</td>\n",
       "      <td>228.0</td>\n",
       "      <td>2.03</td>\n",
       "      <td>60.50</td>\n",
       "      <td>2020</td>\n",
       "      <td>1.0</td>\n",
       "    </tr>\n",
       "  </tbody>\n",
       "</table>\n",
       "</div>"
      ],
      "text/plain": [
       "                 datetime  road_km  target  road_id     data_id  station_id  \\\n",
       "11303 2020-01-09 19:00:00      363     1.0      9.0  34963662.0     41122.0   \n",
       "11304 2020-01-09 19:00:00      363     1.0      9.0  34963662.0     41122.0   \n",
       "\n",
       "       volume  occupancy  speed  year  repair  \n",
       "11303   286.0       2.94  52.47  2020     1.0  \n",
       "11304   228.0       2.03  60.50  2020     1.0  "
      ]
     },
     "execution_count": 21,
     "metadata": {},
     "output_type": "execute_result"
    }
   ],
   "source": [
    "# добавление данных о ремонте дороги на указанном километре\n",
    "tmp['year'] = tmp['datetime'].map(lambda x: x.year)\n",
    "repair['year'] = repair['datetime'].map(lambda x: x.year)\n",
    "index_repair = tmp[tmp.set_index(['road_km','year']).index.isin(repair.set_index(['road_km','year']).index)].index\n",
    "tmp.loc[index_repair, 'repair'] = 1\n",
    "tmp = tmp.fillna(0)\n",
    "tmp.head(2)"
   ]
  },
  {
   "cell_type": "code",
   "execution_count": 22,
   "metadata": {
    "execution": {
     "iopub.execute_input": "2021-05-28T18:36:59.307166Z",
     "iopub.status.busy": "2021-05-28T18:36:59.306808Z",
     "iopub.status.idle": "2021-05-28T18:36:59.331728Z",
     "shell.execute_reply": "2021-05-28T18:36:59.330944Z",
     "shell.execute_reply.started": "2021-05-28T18:36:59.307121Z"
    }
   },
   "outputs": [
    {
     "name": "stdout",
     "output_type": "stream",
     "text": [
      "<class 'pandas.core.frame.DataFrame'>\n",
      "RangeIndex: 687181 entries, 0 to 687180\n",
      "Data columns (total 7 columns):\n",
      " #   Column     Non-Null Count   Dtype         \n",
      "---  ------     --------------   -----         \n",
      " 0   datetime   687181 non-null  datetime64[ns]\n",
      " 1   road_km    687181 non-null  int64         \n",
      " 2   target     687181 non-null  float64       \n",
      " 3   volume     687181 non-null  float64       \n",
      " 4   occupancy  687181 non-null  float64       \n",
      " 5   speed      687181 non-null  float64       \n",
      " 6   repair     687181 non-null  float64       \n",
      "dtypes: datetime64[ns](1), float64(5), int64(1)\n",
      "memory usage: 36.7 MB\n"
     ]
    }
   ],
   "source": [
    "# выбор переменных\n",
    "columns = ['datetime',\n",
    "           'road_km',\n",
    "           'target',\n",
    "           'volume',\n",
    "           'occupancy',\n",
    "           'speed',\n",
    "           'repair']\n",
    "tmp = tmp[columns]\n",
    "tmp.reset_index(drop=True, inplace=True)\n",
    "tmp.info()"
   ]
  },
  {
   "cell_type": "code",
   "execution_count": 23,
   "metadata": {
    "execution": {
     "iopub.execute_input": "2021-05-28T18:36:59.332474Z",
     "iopub.status.busy": "2021-05-28T18:36:59.332353Z",
     "iopub.status.idle": "2021-05-28T18:36:59.566222Z",
     "shell.execute_reply": "2021-05-28T18:36:59.565674Z",
     "shell.execute_reply.started": "2021-05-28T18:36:59.332459Z"
    }
   },
   "outputs": [
    {
     "data": {
      "image/png": "[encoded data removed]",
      "text/plain": [
       "<Figure size 864x720 with 2 Axes>"
      ]
     },
     "metadata": {
      "needs_background": "light"
     },
     "output_type": "display_data"
    }
   ],
   "source": [
    "corrmat = tmp.corr()\n",
    "f,ax = plt.subplots(figsize=(12,10))\n",
    "sns.heatmap(corrmat,vmax=0.8,square=True,annot=True,annot_kws={'size':8})\n",
    "plt.show()"
   ]
  },
  {
   "cell_type": "markdown",
   "metadata": {
    "tags": []
   },
   "source": [
    "### 2. Формирование модели. Обучение. Тестирование."
   ]
  },
  {
   "cell_type": "code",
   "execution_count": 24,
   "metadata": {
    "execution": {
     "iopub.execute_input": "2021-05-28T18:36:59.566971Z",
     "iopub.status.busy": "2021-05-28T18:36:59.566851Z",
     "iopub.status.idle": "2021-05-28T18:36:59.590091Z",
     "shell.execute_reply": "2021-05-28T18:36:59.589472Z",
     "shell.execute_reply.started": "2021-05-28T18:36:59.566956Z"
    }
   },
   "outputs": [
    {
     "name": "stdout",
     "output_type": "stream",
     "text": [
      "Нулевых значений переменной target:  686887\n",
      "Ненулевых значений переменной target:  294\n"
     ]
    }
   ],
   "source": [
    "print(\"Нулевых значений переменной target: \", tmp[tmp['target'] == 0].shape[0])\n",
    "print(\"Ненулевых значений переменной target: \", tmp[tmp['target'] != 0].shape[0])"
   ]
  },
  {
   "cell_type": "code",
   "execution_count": 25,
   "metadata": {
    "execution": {
     "iopub.execute_input": "2021-05-28T18:36:59.590826Z",
     "iopub.status.busy": "2021-05-28T18:36:59.590699Z",
     "iopub.status.idle": "2021-05-28T18:36:59.738401Z",
     "shell.execute_reply": "2021-05-28T18:36:59.737795Z",
     "shell.execute_reply.started": "2021-05-28T18:36:59.590811Z"
    }
   },
   "outputs": [],
   "source": [
    "# снизим объем выборки, рандомно удалив 98% строк с нулевыми значениями для target\n",
    "tmp = tmp.drop(tmp[tmp['target'] == 0].sample(frac=.98).index)"
   ]
  },
  {
   "cell_type": "code",
   "execution_count": 26,
   "metadata": {
    "execution": {
     "iopub.execute_input": "2021-05-28T18:36:59.739197Z",
     "iopub.status.busy": "2021-05-28T18:36:59.739078Z",
     "iopub.status.idle": "2021-05-28T18:36:59.744858Z",
     "shell.execute_reply": "2021-05-28T18:36:59.744116Z",
     "shell.execute_reply.started": "2021-05-28T18:36:59.739184Z"
    }
   },
   "outputs": [
    {
     "name": "stdout",
     "output_type": "stream",
     "text": [
      "Размер выборки для обучения:  (11225, 7)\n",
      "Размер выборки для тестирования:  (2807, 7)\n"
     ]
    }
   ],
   "source": [
    "tmp_train, tmp_test = train_test_split(tmp, test_size=0.2)\n",
    "print(\"Размер выборки для обучения: \", tmp_train.shape)\n",
    "print(\"Размер выборки для тестирования: \", tmp_test.shape)"
   ]
  },
  {
   "cell_type": "markdown",
   "metadata": {},
   "source": [
    "Выделим 20% всех данных на тестирование, остальные оставим на обучение"
   ]
  },
  {
   "cell_type": "code",
   "execution_count": 27,
   "metadata": {
    "execution": {
     "iopub.execute_input": "2021-05-28T18:36:59.745602Z",
     "iopub.status.busy": "2021-05-28T18:36:59.745483Z",
     "iopub.status.idle": "2021-05-28T18:37:28.178009Z",
     "shell.execute_reply": "2021-05-28T18:37:28.177400Z",
     "shell.execute_reply.started": "2021-05-28T18:36:59.745588Z"
    }
   },
   "outputs": [
    {
     "name": "stdout",
     "output_type": "stream",
     "text": [
      "CPU times: user 28 s, sys: 449 ms, total: 28.4 s\n",
      "Wall time: 28.4 s\n"
     ]
    }
   ],
   "source": [
    "%%time\n",
    "columns = ['volume',\n",
    "           'occupancy',\n",
    "           'speed',\n",
    "           'repair']\n",
    "tmp_train_x = tmp_train[columns]\n",
    "tmp_train_y = tmp_train['target']\n",
    "\n",
    "tmp_test_x = tmp_test[columns]\n",
    "tmp_test_y = tmp_test['target']\n",
    "\n",
    "clf = svm.SVC(gamma='auto', probability=True)\n",
    "clf.fit(tmp_train_x, tmp_train_y)\n",
    "predicted_target = clf.predict(tmp_test_x)"
   ]
  },
  {
   "cell_type": "code",
   "execution_count": 28,
   "metadata": {
    "execution": {
     "iopub.execute_input": "2021-05-28T18:37:28.178676Z",
     "iopub.status.busy": "2021-05-28T18:37:28.178567Z",
     "iopub.status.idle": "2021-05-28T18:37:28.182754Z",
     "shell.execute_reply": "2021-05-28T18:37:28.182473Z",
     "shell.execute_reply.started": "2021-05-28T18:37:28.178662Z"
    }
   },
   "outputs": [
    {
     "data": {
      "text/plain": [
       "0.32955023118957544"
      ]
     },
     "execution_count": 28,
     "metadata": {},
     "output_type": "execute_result"
    }
   ],
   "source": [
    "# оценим модель на тестово сэмпле\n",
    "f1_score(tmp_test_y, predicted_target, average='macro')"
   ]
  },
  {
   "cell_type": "markdown",
   "metadata": {
    "tags": []
   },
   "source": [
    "### 3. Проверка на основной тестовой выборке (предсказание)"
   ]
  },
  {
   "cell_type": "code",
   "execution_count": 29,
   "metadata": {
    "execution": {
     "iopub.execute_input": "2021-05-28T18:37:28.183332Z",
     "iopub.status.busy": "2021-05-28T18:37:28.183228Z",
     "iopub.status.idle": "2021-05-28T18:37:31.252346Z",
     "shell.execute_reply": "2021-05-28T18:37:31.251982Z",
     "shell.execute_reply.started": "2021-05-28T18:37:28.183318Z"
    }
   },
   "outputs": [],
   "source": [
    "# загрузка выборки\n",
    "test = pd.read_csv(os.path.join(DATA_PATH, 'test.csv'), parse_dates=['datetime'])\n",
    "# выбор трассы М-8\n",
    "test = test[test[\"road_id\"]==9]"
   ]
  },
  {
   "cell_type": "markdown",
   "metadata": {
    "tags": []
   },
   "source": [
    "#### Обагащение выборки переменными из датасетов `traffic.csv`, `repair.csv`"
   ]
  },
  {
   "cell_type": "code",
   "execution_count": 30,
   "metadata": {
    "execution": {
     "iopub.execute_input": "2021-05-28T18:37:31.252999Z",
     "iopub.status.busy": "2021-05-28T18:37:31.252885Z",
     "iopub.status.idle": "2021-05-28T18:37:33.352483Z",
     "shell.execute_reply": "2021-05-28T18:37:33.351960Z",
     "shell.execute_reply.started": "2021-05-28T18:37:31.252985Z"
    }
   },
   "outputs": [
    {
     "data": {
      "text/html": [
       "<div>\n",
       "<style scoped>\n",
       "    .dataframe tbody tr th:only-of-type {\n",
       "        vertical-align: middle;\n",
       "    }\n",
       "\n",
       "    .dataframe tbody tr th {\n",
       "        vertical-align: top;\n",
       "    }\n",
       "\n",
       "    .dataframe thead th {\n",
       "        text-align: right;\n",
       "    }\n",
       "</style>\n",
       "<table border=\"1\" class=\"dataframe\">\n",
       "  <thead>\n",
       "    <tr style=\"text-align: right;\">\n",
       "      <th></th>\n",
       "      <th>datetime</th>\n",
       "      <th>road_id</th>\n",
       "      <th>road_km</th>\n",
       "      <th>target</th>\n",
       "      <th>data_id</th>\n",
       "      <th>station_id</th>\n",
       "      <th>volume</th>\n",
       "      <th>occupancy</th>\n",
       "      <th>speed</th>\n",
       "    </tr>\n",
       "  </thead>\n",
       "  <tbody>\n",
       "    <tr>\n",
       "      <th>38</th>\n",
       "      <td>2020-01-01 01:00:00</td>\n",
       "      <td>9</td>\n",
       "      <td>38</td>\n",
       "      <td>NaN</td>\n",
       "      <td>34604682.0</td>\n",
       "      <td>53224.0</td>\n",
       "      <td>87.0</td>\n",
       "      <td>1.0</td>\n",
       "      <td>114.671875</td>\n",
       "    </tr>\n",
       "    <tr>\n",
       "      <th>39</th>\n",
       "      <td>2020-01-01 01:00:00</td>\n",
       "      <td>9</td>\n",
       "      <td>38</td>\n",
       "      <td>NaN</td>\n",
       "      <td>34604682.0</td>\n",
       "      <td>53224.0</td>\n",
       "      <td>207.0</td>\n",
       "      <td>1.0</td>\n",
       "      <td>115.708435</td>\n",
       "    </tr>\n",
       "  </tbody>\n",
       "</table>\n",
       "</div>"
      ],
      "text/plain": [
       "              datetime  road_id  road_km  target     data_id  station_id  \\\n",
       "38 2020-01-01 01:00:00        9       38     NaN  34604682.0     53224.0   \n",
       "39 2020-01-01 01:00:00        9       38     NaN  34604682.0     53224.0   \n",
       "\n",
       "    volume  occupancy       speed  \n",
       "38    87.0        1.0  114.671875  \n",
       "39   207.0        1.0  115.708435  "
      ]
     },
     "execution_count": 30,
     "metadata": {},
     "output_type": "execute_result"
    }
   ],
   "source": [
    "# объединение выборки с данными о трафике\n",
    "test = pd.merge(test, traffic, how='outer', on=['datetime', 'road_km','road_id'])\n",
    "condition1 = (test['target'].isnull()) & (test['data_id'].isnull())\n",
    "test = test.drop(test[condition1].index)\n",
    "test.head(2)"
   ]
  },
  {
   "cell_type": "code",
   "execution_count": 31,
   "metadata": {
    "execution": {
     "iopub.execute_input": "2021-05-28T18:37:33.353132Z",
     "iopub.status.busy": "2021-05-28T18:37:33.353021Z",
     "iopub.status.idle": "2021-05-28T18:37:35.166304Z",
     "shell.execute_reply": "2021-05-28T18:37:35.165730Z",
     "shell.execute_reply.started": "2021-05-28T18:37:33.353119Z"
    }
   },
   "outputs": [],
   "source": [
    "# добавление данных о ремонте дороги на указанном километре\n",
    "test['year'] = test['datetime'].map(lambda x: x.year)\n",
    "repair['year'] = repair['datetime'].map(lambda x: x.year)"
   ]
  },
  {
   "cell_type": "code",
   "execution_count": 32,
   "metadata": {
    "execution": {
     "iopub.execute_input": "2021-05-28T18:37:35.166991Z",
     "iopub.status.busy": "2021-05-28T18:37:35.166878Z",
     "iopub.status.idle": "2021-05-28T18:37:35.718796Z",
     "shell.execute_reply": "2021-05-28T18:37:35.717806Z",
     "shell.execute_reply.started": "2021-05-28T18:37:35.166978Z"
    }
   },
   "outputs": [
    {
     "data": {
      "text/html": [
       "<div>\n",
       "<style scoped>\n",
       "    .dataframe tbody tr th:only-of-type {\n",
       "        vertical-align: middle;\n",
       "    }\n",
       "\n",
       "    .dataframe tbody tr th {\n",
       "        vertical-align: top;\n",
       "    }\n",
       "\n",
       "    .dataframe thead th {\n",
       "        text-align: right;\n",
       "    }\n",
       "</style>\n",
       "<table border=\"1\" class=\"dataframe\">\n",
       "  <thead>\n",
       "    <tr style=\"text-align: right;\">\n",
       "      <th></th>\n",
       "      <th>datetime</th>\n",
       "      <th>road_id</th>\n",
       "      <th>road_km</th>\n",
       "      <th>target</th>\n",
       "      <th>data_id</th>\n",
       "      <th>station_id</th>\n",
       "      <th>volume</th>\n",
       "      <th>occupancy</th>\n",
       "      <th>speed</th>\n",
       "      <th>year</th>\n",
       "      <th>repair</th>\n",
       "    </tr>\n",
       "  </thead>\n",
       "  <tbody>\n",
       "    <tr>\n",
       "      <th>38</th>\n",
       "      <td>2020-01-01 01:00:00</td>\n",
       "      <td>9</td>\n",
       "      <td>38</td>\n",
       "      <td>NaN</td>\n",
       "      <td>34604682.0</td>\n",
       "      <td>53224.0</td>\n",
       "      <td>87.0</td>\n",
       "      <td>1.0</td>\n",
       "      <td>114.671875</td>\n",
       "      <td>2020</td>\n",
       "      <td>0.0</td>\n",
       "    </tr>\n",
       "    <tr>\n",
       "      <th>39</th>\n",
       "      <td>2020-01-01 01:00:00</td>\n",
       "      <td>9</td>\n",
       "      <td>38</td>\n",
       "      <td>NaN</td>\n",
       "      <td>34604682.0</td>\n",
       "      <td>53224.0</td>\n",
       "      <td>207.0</td>\n",
       "      <td>1.0</td>\n",
       "      <td>115.708435</td>\n",
       "      <td>2020</td>\n",
       "      <td>0.0</td>\n",
       "    </tr>\n",
       "    <tr>\n",
       "      <th>40</th>\n",
       "      <td>2020-01-01 01:00:00</td>\n",
       "      <td>9</td>\n",
       "      <td>38</td>\n",
       "      <td>NaN</td>\n",
       "      <td>34604682.0</td>\n",
       "      <td>53224.0</td>\n",
       "      <td>43.0</td>\n",
       "      <td>20.0</td>\n",
       "      <td>46.453125</td>\n",
       "      <td>2020</td>\n",
       "      <td>0.0</td>\n",
       "    </tr>\n",
       "    <tr>\n",
       "      <th>41</th>\n",
       "      <td>2020-01-01 01:00:00</td>\n",
       "      <td>9</td>\n",
       "      <td>38</td>\n",
       "      <td>NaN</td>\n",
       "      <td>34604682.0</td>\n",
       "      <td>53224.0</td>\n",
       "      <td>195.0</td>\n",
       "      <td>1.0</td>\n",
       "      <td>97.796875</td>\n",
       "      <td>2020</td>\n",
       "      <td>0.0</td>\n",
       "    </tr>\n",
       "    <tr>\n",
       "      <th>42</th>\n",
       "      <td>2020-01-01 01:00:00</td>\n",
       "      <td>9</td>\n",
       "      <td>38</td>\n",
       "      <td>NaN</td>\n",
       "      <td>34604682.0</td>\n",
       "      <td>53224.0</td>\n",
       "      <td>89.0</td>\n",
       "      <td>1.0</td>\n",
       "      <td>108.213440</td>\n",
       "      <td>2020</td>\n",
       "      <td>0.0</td>\n",
       "    </tr>\n",
       "  </tbody>\n",
       "</table>\n",
       "</div>"
      ],
      "text/plain": [
       "              datetime  road_id  road_km  target     data_id  station_id  \\\n",
       "38 2020-01-01 01:00:00        9       38     NaN  34604682.0     53224.0   \n",
       "39 2020-01-01 01:00:00        9       38     NaN  34604682.0     53224.0   \n",
       "40 2020-01-01 01:00:00        9       38     NaN  34604682.0     53224.0   \n",
       "41 2020-01-01 01:00:00        9       38     NaN  34604682.0     53224.0   \n",
       "42 2020-01-01 01:00:00        9       38     NaN  34604682.0     53224.0   \n",
       "\n",
       "    volume  occupancy       speed  year  repair  \n",
       "38    87.0        1.0  114.671875  2020     0.0  \n",
       "39   207.0        1.0  115.708435  2020     0.0  \n",
       "40    43.0       20.0   46.453125  2020     0.0  \n",
       "41   195.0        1.0   97.796875  2020     0.0  \n",
       "42    89.0        1.0  108.213440  2020     0.0  "
      ]
     },
     "execution_count": 32,
     "metadata": {},
     "output_type": "execute_result"
    }
   ],
   "source": [
    "index_repair = test[test.set_index(['road_km','year']).index.isin(repair.set_index(['road_km','year']).index)].index\n",
    "test.loc[index_repair, 'repair'] = 1\n",
    "test['repair'] = test['repair'].fillna(0)\n",
    "test.head()"
   ]
  },
  {
   "cell_type": "code",
   "execution_count": 33,
   "metadata": {
    "execution": {
     "iopub.execute_input": "2021-05-28T18:37:35.720667Z",
     "iopub.status.busy": "2021-05-28T18:37:35.720308Z",
     "iopub.status.idle": "2021-05-28T18:37:35.723572Z",
     "shell.execute_reply": "2021-05-28T18:37:35.722988Z",
     "shell.execute_reply.started": "2021-05-28T18:37:35.720622Z"
    }
   },
   "outputs": [
    {
     "name": "stdout",
     "output_type": "stream",
     "text": [
      "Размер выборки для тестирования:  (687181, 11)\n"
     ]
    }
   ],
   "source": [
    "print(\"Размер выборки для тестирования: \", test.shape)"
   ]
  },
  {
   "cell_type": "code",
   "execution_count": 34,
   "metadata": {
    "execution": {
     "iopub.execute_input": "2021-05-28T18:37:35.725062Z",
     "iopub.status.busy": "2021-05-28T18:37:35.724950Z",
     "iopub.status.idle": "2021-05-28T18:37:35.733196Z",
     "shell.execute_reply": "2021-05-28T18:37:35.732271Z",
     "shell.execute_reply.started": "2021-05-28T18:37:35.725049Z"
    }
   },
   "outputs": [],
   "source": [
    "# выбор переменных\n",
    "columns = ['volume',\n",
    "           'occupancy',\n",
    "           'speed',\n",
    "           'repair']"
   ]
  },
  {
   "cell_type": "markdown",
   "metadata": {},
   "source": [
    "#### Предсказание и оценка модели"
   ]
  },
  {
   "cell_type": "code",
   "execution_count": 35,
   "metadata": {
    "execution": {
     "iopub.execute_input": "2021-05-28T18:37:35.734464Z",
     "iopub.status.busy": "2021-05-28T18:37:35.734353Z",
     "iopub.status.idle": "2021-05-28T18:39:14.439423Z",
     "shell.execute_reply": "2021-05-28T18:39:14.438823Z",
     "shell.execute_reply.started": "2021-05-28T18:37:35.734450Z"
    },
    "tags": []
   },
   "outputs": [
    {
     "name": "stdout",
     "output_type": "stream",
     "text": [
      "CPU times: user 1min 38s, sys: 3.48 ms, total: 1min 38s\n",
      "Wall time: 1min 38s\n"
     ]
    }
   ],
   "source": [
    "%%time\n",
    "# предсказание значений переменной target\n",
    "test['target'] =  clf.predict(test[columns])"
   ]
  },
  {
   "cell_type": "code",
   "execution_count": 30,
   "metadata": {},
   "outputs": [],
   "source": [
    "prediction = test[['datetime','road_id','road_km','target']]\n",
    "prediction.to_csv('prediction.csv', index=False)"
   ]
  },
  {
   "cell_type": "code",
   "execution_count": 37,
   "metadata": {},
   "outputs": [],
   "source": [
    "# загрузка реальных данных тестовой выборки\n",
    "test_secret = pd.read_csv('test_secret.csv', parse_dates=['datetime'])\n",
    "# выбор трассы М-8\n",
    "test_secret = test_secret[test_secret[\"road_id\"]==9]"
   ]
  },
  {
   "cell_type": "code",
   "execution_count": 49,
   "metadata": {},
   "outputs": [],
   "source": [
    "check = pd.merge(prediction, test_secret, how='left', on=['datetime', 'road_km','road_id'])\n",
    "# сформируем выборку предсказанных занчений\n",
    "check = check.drop(check[check['target_y'].isnull()].index)"
   ]
  },
  {
   "cell_type": "code",
   "execution_count": 50,
   "metadata": {},
   "outputs": [
    {
     "data": {
      "text/html": [
       "<div>\n",
       "<style scoped>\n",
       "    .dataframe tbody tr th:only-of-type {\n",
       "        vertical-align: middle;\n",
       "    }\n",
       "\n",
       "    .dataframe tbody tr th {\n",
       "        vertical-align: top;\n",
       "    }\n",
       "\n",
       "    .dataframe thead th {\n",
       "        text-align: right;\n",
       "    }\n",
       "</style>\n",
       "<table border=\"1\" class=\"dataframe\">\n",
       "  <thead>\n",
       "    <tr style=\"text-align: right;\">\n",
       "      <th></th>\n",
       "      <th>datetime</th>\n",
       "      <th>road_id</th>\n",
       "      <th>road_km</th>\n",
       "      <th>target_x</th>\n",
       "      <th>target_y</th>\n",
       "    </tr>\n",
       "  </thead>\n",
       "  <tbody>\n",
       "    <tr>\n",
       "      <th>0</th>\n",
       "      <td>2020-01-01 01:00:00</td>\n",
       "      <td>9</td>\n",
       "      <td>38</td>\n",
       "      <td>0.0</td>\n",
       "      <td>0.0</td>\n",
       "    </tr>\n",
       "    <tr>\n",
       "      <th>1</th>\n",
       "      <td>2020-01-01 01:00:00</td>\n",
       "      <td>9</td>\n",
       "      <td>38</td>\n",
       "      <td>0.0</td>\n",
       "      <td>0.0</td>\n",
       "    </tr>\n",
       "    <tr>\n",
       "      <th>2</th>\n",
       "      <td>2020-01-01 01:00:00</td>\n",
       "      <td>9</td>\n",
       "      <td>38</td>\n",
       "      <td>0.0</td>\n",
       "      <td>0.0</td>\n",
       "    </tr>\n",
       "    <tr>\n",
       "      <th>3</th>\n",
       "      <td>2020-01-01 01:00:00</td>\n",
       "      <td>9</td>\n",
       "      <td>38</td>\n",
       "      <td>0.0</td>\n",
       "      <td>0.0</td>\n",
       "    </tr>\n",
       "    <tr>\n",
       "      <th>4</th>\n",
       "      <td>2020-01-01 01:00:00</td>\n",
       "      <td>9</td>\n",
       "      <td>38</td>\n",
       "      <td>0.0</td>\n",
       "      <td>0.0</td>\n",
       "    </tr>\n",
       "  </tbody>\n",
       "</table>\n",
       "</div>"
      ],
      "text/plain": [
       "             datetime  road_id  road_km  target_x  target_y\n",
       "0 2020-01-01 01:00:00        9       38       0.0       0.0\n",
       "1 2020-01-01 01:00:00        9       38       0.0       0.0\n",
       "2 2020-01-01 01:00:00        9       38       0.0       0.0\n",
       "3 2020-01-01 01:00:00        9       38       0.0       0.0\n",
       "4 2020-01-01 01:00:00        9       38       0.0       0.0"
      ]
     },
     "execution_count": 50,
     "metadata": {},
     "output_type": "execute_result"
    }
   ],
   "source": [
    "check.head()"
   ]
  },
  {
   "cell_type": "code",
   "execution_count": 52,
   "metadata": {},
   "outputs": [
    {
     "name": "stdout",
     "output_type": "stream",
     "text": [
      "Кол-во предсказанных значений:  345193\n",
      "Кол-во фактических значений:  345193\n"
     ]
    }
   ],
   "source": [
    "print(\"Кол-во предсказанных значений: \", check['target_x'].shape[0])\n",
    "print(\"Кол-во фактических значений: \", check['target_y'].shape[0])"
   ]
  },
  {
   "cell_type": "code",
   "execution_count": 53,
   "metadata": {},
   "outputs": [
    {
     "data": {
      "text/plain": [
       "0.33304822488581165"
      ]
     },
     "execution_count": 53,
     "metadata": {},
     "output_type": "execute_result"
    }
   ],
   "source": [
    "# оценка модели на реальных данных тестовой выборки \n",
    "f1_score(check['target_y'], check['target_x'], average='macro')"
   ]
  }
 ],
 "metadata": {
  "colab": {
   "collapsed_sections": [],
   "name": "baseline_track_third.ipynb",
   "provenance": []
  },
  "kernelspec": {
   "display_name": "Python 3",
   "language": "python",
   "name": "python3"
  },
  "language_info": {
   "codemirror_mode": {
    "name": "ipython",
    "version": 3
   },
   "file_extension": ".py",
   "mimetype": "text/x-python",
   "name": "python",
   "nbconvert_exporter": "python",
   "pygments_lexer": "ipython3",
   "version": "3.7.10"
  }
 },
 "nbformat": 4,
 "nbformat_minor": 4
}
