{
 "cells": [
  {
   "cell_type": "markdown",
   "id": "647c178d-a869-4cb2-b782-e09fceb81efe",
   "metadata": {
    "tags": []
   },
   "source": [
    "## Libraries"
   ]
  },
  {
   "cell_type": "code",
   "execution_count": 1,
   "id": "a6a5a95d-8c26-4303-b566-27c9e6c91c72",
   "metadata": {
    "execution": {
     "iopub.execute_input": "2021-05-29T22:46:19.686597Z",
     "iopub.status.busy": "2021-05-29T22:46:19.686158Z",
     "iopub.status.idle": "2021-05-29T22:46:19.745613Z",
     "shell.execute_reply": "2021-05-29T22:46:19.744940Z",
     "shell.execute_reply.started": "2021-05-29T22:46:19.686465Z"
    },
    "tags": []
   },
   "outputs": [],
   "source": [
    "%reset -f"
   ]
  },
  {
   "cell_type": "code",
   "execution_count": 2,
   "id": "147d7b2b-ee3a-44b9-a9e5-062d81761e42",
   "metadata": {
    "execution": {
     "iopub.execute_input": "2021-05-29T22:46:19.747487Z",
     "iopub.status.busy": "2021-05-29T22:46:19.747139Z",
     "iopub.status.idle": "2021-05-29T22:46:20.447052Z",
     "shell.execute_reply": "2021-05-29T22:46:20.446693Z",
     "shell.execute_reply.started": "2021-05-29T22:46:19.747442Z"
    },
    "tags": []
   },
   "outputs": [],
   "source": [
    "# Import Libraries\n",
    "\n",
    "# General Libraries\n",
    "import datetime as dt\n",
    "import os\n",
    "import joblib\n",
    "\n",
    "import holidays\n",
    "import numpy as np\n",
    "import pandas as pd\n",
    "\n",
    "pd.set_option(\"display.float_format\", lambda x: \"%.2f\" % x)\n",
    "pd.set_option(\"display.max_rows\", 100)\n",
    "pd.set_option(\"display.max_columns\", 100)\n",
    "np.random.seed(10)\n",
    "\n",
    "import matplotlib as mpl\n",
    "import matplotlib.pyplot as plt\n",
    "\n",
    "# Data Visualization\n",
    "import seaborn as sns\n",
    "\n",
    "sns.set()\n",
    "plt.style.use(\"seaborn-darkgrid\")\n",
    "sns.set(style=\"darkgrid\")\n",
    "%matplotlib inline\n",
    "\n",
    "import pickle\n",
    "from itertools import product\n",
    "from math import sqrt\n",
    "\n",
    "from geopy.distance import geodesic\n",
    "from scipy.spatial.distance import pdist, squareform\n",
    "from sklearn.ensemble import GradientBoostingRegressor, RandomForestRegressor\n",
    "from sklearn.linear_model import LinearRegression\n",
    "\n",
    "# Metrics\n",
    "from sklearn.metrics import f1_score, mean_squared_error, roc_auc_score\n",
    "from sklearn.metrics.pairwise import cosine_similarity\n",
    "from sklearn.model_selection import GridSearchCV\n",
    "\n",
    "# Prepossing Libraries\n",
    "from sklearn.preprocessing import LabelEncoder, MinMaxScaler\n",
    "from workalendar.europe import Russia\n",
    "\n",
    "# Models\n",
    "from xgboost import XGBRegressor\n",
    "import lightgbm as lgb\n",
    "\n",
    "from sklearn.model_selection import RandomizedSearchCV, GridSearchCV\n",
    "\n",
    "DATA_PATH = \"../data/3_track/\"\n",
    "MODEL_PATH = \"../models/\"\n",
    "SUBMIT_PATH = \"../submit/\""
   ]
  },
  {
   "cell_type": "code",
   "execution_count": 3,
   "id": "5ed0cb14-618a-4841-8fb5-79b9e318587d",
   "metadata": {
    "execution": {
     "iopub.execute_input": "2021-05-29T22:46:20.447725Z",
     "iopub.status.busy": "2021-05-29T22:46:20.447615Z",
     "iopub.status.idle": "2021-05-29T22:46:20.458715Z",
     "shell.execute_reply": "2021-05-29T22:46:20.458185Z",
     "shell.execute_reply.started": "2021-05-29T22:46:20.447712Z"
    },
    "tags": []
   },
   "outputs": [],
   "source": [
    "def dfOutlook(df):\n",
    "    print(\"----------Top-5- Record----------\")\n",
    "    display(df.head(5))\n",
    "    print(\"-----------Information-----------\")\n",
    "    print(df.info())\n",
    "    print(\"-----------Data Types-----------\")\n",
    "    print(df.dtypes)\n",
    "    print(\"----------Missing value-----------\")\n",
    "    print(df.isnull().sum())\n",
    "    print(\"----------Null value-----------\")\n",
    "    print(df.isna().sum())\n",
    "    print(\"----------Shape of Data----------\")\n",
    "    print(df.shape)\n",
    "    print(\"----------Number of dupliacte rows----------\")\n",
    "    print(len(df[df.duplicated()]))\n",
    "\n",
    "\n",
    "def downcast_dtypes(df):\n",
    "    float_cols = [c for c in df if df[c].dtype in \"float64\"]\n",
    "    int_cols = [c for c in df if df[c].dtype in [\"int64\", \"int32\"]]\n",
    "    df[float_cols] = df[float_cols].astype(np.float16)\n",
    "    df[int_cols] = df[int_cols].astype(np.int16)\n",
    "    return df\n",
    "\n",
    "\n",
    "def convertDate(\n",
    "    df,\n",
    "    cols,\n",
    "    prefix,\n",
    "    form=\"%Y-%m-%d %H:%M:%S\",\n",
    "    suffix=[\n",
    "        \"year\",\n",
    "        \"month\",\n",
    "        \"day\",\n",
    "        \"hour\",\n",
    "        \"minute\",\n",
    "        \"second\",\n",
    "        \"dotw\",\n",
    "        \"workDay\",\n",
    "        \"week\",\n",
    "    ],\n",
    "):\n",
    "    cal = Russia()\n",
    "\n",
    "    tmp = {\n",
    "        x: dt.datetime.strptime(x, form) for x in pd.unique(df[cols].values.ravel(\"K\"))\n",
    "    }\n",
    "    cash = {\n",
    "        x: {\n",
    "            \"date\": tmp[x],\n",
    "            \"year\": tmp[x].year,\n",
    "            \"month\": tmp[x].month,\n",
    "            \"day\": tmp[x].day,\n",
    "            \"hour\": tmp[x].hour,\n",
    "            \"minute\": tmp[x].minute,\n",
    "            \"second\": tmp[x].second,\n",
    "            \"dotw\": tmp[x].isoweekday(),\n",
    "            \"workDay\": cal.is_working_day(tmp[x]) * 1,\n",
    "            \"week\": tmp[x].isocalendar()[1],\n",
    "        }\n",
    "        for x in tmp.keys()\n",
    "    }\n",
    "\n",
    "    for newCol, oldCol in zip(prefix, cols):\n",
    "        for suf in suffix:\n",
    "            df[newCol + \"_\" + suf] = df[oldCol].apply(lambda x: cash[x][suf])\n",
    "\n",
    "    return df\n",
    "\n",
    "\n",
    "def df_crossjoin(df1, df2, **kwargs):\n",
    "    df1[\"_tmpkey\"] = 1\n",
    "    df2[\"_tmpkey\"] = 1\n",
    "\n",
    "    res = pd.merge(df1, df2, on=\"_tmpkey\", **kwargs).drop(\"_tmpkey\", axis=1)\n",
    "    #     res.index = pd.MultiIndex.from_product((df1.index, df2.index))\n",
    "\n",
    "    df1.drop(\"_tmpkey\", axis=1, inplace=True)\n",
    "    df2.drop(\"_tmpkey\", axis=1, inplace=True)\n",
    "\n",
    "    return res\n",
    "\n",
    "\n",
    "def downcast_dtypes(df):\n",
    "    float_cols = [c for c in df if df[c].dtype == \"float64\"]\n",
    "    int_cols = [c for c in df if df[c].dtype in [\"int64\", \"int32\"]]\n",
    "    df[float_cols] = df[float_cols].astype(np.float32)\n",
    "    df[int_cols] = df[int_cols].astype(np.int16)\n",
    "    return df\n",
    "\n",
    "\n",
    "def evaluate_macroF1_lgb(truth, predictions):\n",
    "    # this follows the discussion in https://github.com/Microsoft/LightGBM/issues/1483\n",
    "    pred_labels = predictions.reshape(len(np.unique(truth)), -1).argmax(axis=0)\n",
    "    f1 = f1_score(truth, pred_labels, average=\"macro\")\n",
    "    return (\"macroF1\", f1, True)\n",
    "\n",
    "\n",
    "def lgb_f1_score(y_hat, data):\n",
    "    \n",
    "    y_true = data.get_label()\n",
    "#     print(y_true.shape)\n",
    "    \n",
    "#     print(y_hat.shape)\n",
    "#     print(y_hat[range(9)])\n",
    "    y_hat = y_hat.reshape((4, y_true.shape[0])).argmax(axis=0)\n",
    "#     y_hat = np.round(y_hat)\n",
    "    print(y_true.shape)\n",
    "    print(y_hat.shape)\n",
    "    \n",
    "    return \"f1\", f1_score(y_true, y_hat, average=\"macro\"), True\n",
    "\n",
    "def lgb_f1_grad_hess(y_hat, data):\n",
    "    \n",
    "    y_true = data.get_label()\n",
    "\n",
    "    y_hat = np.reshape((y_true.shape[0],4)).transpose().argmax(axis=1)\n",
    "    \n",
    "    return \"f1\", f1_score(y_true, y_hat, average=\"macro\"), True\n",
    "\n",
    "def learning_rate_power_0997(current_iter):\n",
    "    base_learning_rate = 0.1\n",
    "    min_learning_rate = 0.02\n",
    "    lr = base_learning_rate * np.power(0.99, current_iter)\n",
    "    return max(lr, min_learning_rate)"
   ]
  },
  {
   "cell_type": "markdown",
   "id": "b79a7726-83d2-4b4f-a569-3feebabb82b4",
   "metadata": {
    "heading_collapsed": "true",
    "tags": []
   },
   "source": [
    "# Data cleaning"
   ]
  },
  {
   "cell_type": "markdown",
   "id": "b8398168-a238-4638-8a0f-cfdc68f5637d",
   "metadata": {
    "heading_collapsed": "true",
    "tags": []
   },
   "source": [
    "## Load Data"
   ]
  },
  {
   "cell_type": "code",
   "execution_count": 13,
   "id": "dcadf963-1161-43db-bbf6-54c26c6c3218",
   "metadata": {
    "execution": {
     "iopub.execute_input": "2021-05-29T15:50:24.372306Z",
     "iopub.status.busy": "2021-05-29T15:50:24.371892Z",
     "iopub.status.idle": "2021-05-29T15:50:39.587628Z",
     "shell.execute_reply": "2021-05-29T15:50:39.586977Z",
     "shell.execute_reply.started": "2021-05-29T15:50:24.372255Z"
    },
    "tags": []
   },
   "outputs": [],
   "source": [
    "# Load Data\n",
    "\n",
    "# train data\n",
    "train = pd.read_csv(os.path.join(DATA_PATH, \"train.csv\"))\n",
    "\n",
    "# test data\n",
    "test = pd.read_csv(os.path.join(DATA_PATH, \"test_new.csv\"))\n",
    "\n",
    "# supplement data\n",
    "traffic = pd.read_csv(os.path.join(DATA_PATH, \"traffic.csv\"))\n",
    "repair = pd.read_csv(os.path.join(DATA_PATH, \"repair.csv\"))\n",
    "crash_parts = pd.read_csv(\n",
    "    os.path.join(DATA_PATH, \"crash_parts.csv\"), usecols=range(1, 12)\n",
    ")\n",
    "atmos = pd.read_csv(os.path.join(DATA_PATH, \"atmos.csv\"), usecols=range(1, 15))\n",
    "meteo = pd.read_csv(\n",
    "    os.path.join(DATA_PATH, \"meteo.csv\"), usecols=range(1, 38), low_memory=False\n",
    ")\n",
    "tele2_data = pd.read_csv(os.path.join(DATA_PATH, \"tele2_data.csv\"))\n",
    "geo_data = pd.read_csv(os.path.join(DATA_PATH, \"geo_data.csv\"))"
   ]
  },
  {
   "cell_type": "markdown",
   "id": "cc4dfde2-e2a8-4f5c-99ad-a430ac8c7bfd",
   "metadata": {
    "execution": {
     "iopub.execute_input": "2021-05-29T11:31:10.072584Z",
     "iopub.status.busy": "2021-05-29T11:31:10.072465Z",
     "iopub.status.idle": "2021-05-29T11:31:10.082988Z",
     "shell.execute_reply": "2021-05-29T11:31:10.082434Z",
     "shell.execute_reply.started": "2021-05-29T11:31:10.072569Z"
    },
    "heading_collapsed": "true",
    "tags": []
   },
   "source": [
    "## Convert DateTime, Extract KM from str features"
   ]
  },
  {
   "cell_type": "code",
   "execution_count": null,
   "id": "9c70ad4a-3edd-4069-8ecd-b9a5f7d89b99",
   "metadata": {
    "tags": []
   },
   "outputs": [],
   "source": [
    "train = convertDate(\n",
    "    train,\n",
    "    [\"datetime\"],\n",
    "    [\"dt\"],\n",
    "    suffix=[\"year\", \"month\", \"day\", \"hour\"],\n",
    ")\n",
    "train.drop(columns=[\"datetime\"], inplace=True)\n",
    "\n",
    "traffic = convertDate(traffic, [\"datetime\"], [\"dt\"], suffix=[\"date\"])\n",
    "traffic.dt_date = traffic.dt_date + dt.timedelta(hours=1)\n",
    "traffic = convertDate(\n",
    "    traffic, [\"datetime\"], [\"dt\"], suffix=[\"year\", \"month\", \"day\", \"hour\"]\n",
    ")\n",
    "traffic[\"dt_year\"] = traffic.dt_date.dt.year\n",
    "traffic[\"dt_month\"] = traffic.dt_date.dt.month\n",
    "traffic[\"dt_day\"] = traffic.dt_date.dt.day\n",
    "traffic[\"dt_hour\"] = traffic.dt_date.dt.hour\n",
    "traffic.drop(columns=[\"datetime\", \"dt_date\"], inplace=True)\n",
    "tmp = pd.DataFrame(traffic.name.unique())[0].str.extract(\"(.*?(\\d+)(?:.*?(\\d+))*.*)\")\n",
    "tmp[[1, 2]] = tmp[[1, 2]].astype(int)\n",
    "tmp[\"name_km\"] = tmp[1] + tmp[2] / 1000\n",
    "tmp.drop(columns=[1, 2], inplace=True)\n",
    "tmp.columns = [\"name\", \"name_km\"]\n",
    "\n",
    "repair = convertDate(repair, [\"datetime\"], [\"dt\"], form=\"%Y-%m-%d\", suffix=[\"year\"])\n",
    "tmp = repair.repair_period.str.extract(\"(\\d+)(?:.*?(\\d+))*\")\n",
    "tmp = tmp.fillna(method=\"ffill\", axis=0)\n",
    "tmp.columns = [\"period_st\", \"period_end\"]\n",
    "tmp = tmp.astype(int)\n",
    "repair = repair.join(tmp)\n",
    "repair.drop(columns=[\"datetime\", \"repair_period\"], inplace=True)\n",
    "\n",
    "kms = []\n",
    "tmp = pd.DataFrame(repair.repair_description.unique())[0].str.extract(\n",
    "    \"((?:.*?(?:(\\d+)\\+(\\d+)))(?:.*?(?:(\\d+)\\+(\\d+)))(?:.*?(?:(\\d+)\\+(\\d+)))(?:.*?(?:(\\d+)\\+(\\d+).*?)).*)\"\n",
    ")\n",
    "tmp.dropna(inplace=True)\n",
    "kms.append(tmp)\n",
    "\n",
    "tmp = pd.DataFrame(repair.repair_description.unique())[0].str.extract(\n",
    "    \"((?:.*?(?:(\\d+)\\+(\\d+)))(?:.*?(?:(\\d+)\\+(\\d+)))(?:.*?(?:(\\d+)\\+(\\d+))).*)\"\n",
    ")\n",
    "tmp.dropna(inplace=True)\n",
    "kms.append(tmp)\n",
    "\n",
    "tmp = pd.DataFrame(repair.repair_description.unique())[0].str.extract(\n",
    "    \"((?:.*?(?:(\\d+)\\+(\\d+)))(?:.*?(?:(\\d+)\\+(\\d+))).*)\"\n",
    ")\n",
    "tmp.dropna(inplace=True)\n",
    "kms.append(tmp)\n",
    "\n",
    "tmp = pd.DataFrame(repair.repair_description.unique())[0].str.extract(\n",
    "    \"((?:.*?(?:(\\d+)\\+(\\d+))).*)\"\n",
    ")\n",
    "tmp.dropna(inplace=True)\n",
    "kms.append(tmp)\n",
    "\n",
    "kms = pd.concat(kms)\n",
    "kms.drop_duplicates(subset=[0], keep=\"first\", inplace=True)\n",
    "kms.reset_index(drop=True, inplace=True)\n",
    "\n",
    "kms.fillna(\"-1\", inplace=True)\n",
    "kms[list(range(1, 9))] = kms[list(range(1, 9))].astype(int)\n",
    "\n",
    "for i in range(4):\n",
    "    kms[\"kmgr_\" + str(i)] = kms[i * 2 + 1] + kms[i * 2 + 2] / 1000\n",
    "\n",
    "kms.drop(columns=range(1, 9), inplace=True)\n",
    "repair = repair.merge(kms, left_on=\"repair_description\", right_on=0)\n",
    "repair.drop(columns=[0])\n",
    "\n",
    "crash_parts = convertDate(\n",
    "    crash_parts, [\"datetime\"], [\"dt\", \"plan\"], form=\"%Y-%m-%d\", suffix=[\"year\"]\n",
    ")\n",
    "crash_parts = convertDate(\n",
    "    crash_parts,\n",
    "    [\"planactiv_year\"],\n",
    "    [\"plan\"],\n",
    "    form=\"%Y-%m-%d\",\n",
    "    suffix=[\"date\"],\n",
    ")\n",
    "crash_parts.plan_date = crash_parts.plan_date + dt.timedelta(days=1)\n",
    "crash_parts[\"plan_year\"] = crash_parts.plan_date.dt.year\n",
    "crash_parts.drop(columns=[\"datetime\", \"planactiv_year\", \"plan_date\"], inplace=True)\n",
    "# Нужны tfidf из crash_parts.planactiv_descr\n",
    "\n",
    "atmos = convertDate(\n",
    "    atmos,\n",
    "    [\"start_date\", \"end_date\"],\n",
    "    [\"start\", \"end\"],\n",
    "    form=\"%Y-%m-%d\",\n",
    "    suffix=[\"year\", \"month\", \"day\"],\n",
    ")\n",
    "atmos.start_ts = atmos.start_ts.fillna(\"0:00\")\n",
    "atmos.end_ts = atmos.end_ts.fillna(\"0:00\")\n",
    "atmos = convertDate(\n",
    "    atmos,\n",
    "    [\"start_ts\", \"end_ts\"],\n",
    "    [\"start\", \"end\"],\n",
    "    form=\"%H:%M\",\n",
    "    suffix=[\"hour\", \"minute\"],\n",
    ")\n",
    "atmos.drop(columns=[\"start_date\", \"start_ts\", \"end_date\", \"end_ts\"], inplace=True)\n",
    "# Нужно ordered label на phenomenon / intensity / *_q\n",
    "\n",
    "meteo = convertDate(\n",
    "    meteo, [\"measure_dt\"], [\"dt\"], suffix=[\"year\", \"month\", \"day\", \"hour\"]\n",
    ")\n",
    "meteo.drop(columns=[\"measure_dt\"], inplace=True)\n",
    "# Нужно ordered label на phenomenon / intensity / *_q\n",
    "# ?Нужно? преобразовать visib в км\n",
    "\n",
    "tele2_data = convertDate(\n",
    "    tele2_data, [\"datetime\"], [\"dt\"], suffix=[\"year\", \"month\", \"day\", \"hour\"]\n",
    ")\n",
    "tele2_data.drop(columns=[\"datetime\"], inplace=True)\n",
    "\n",
    "\n"
   ]
  },
  {
   "cell_type": "markdown",
   "id": "94076677-5355-4095-b0db-c015be9013e5",
   "metadata": {
    "heading_collapsed": "true",
    "tags": []
   },
   "source": [
    "## Fix coordinates on road"
   ]
  },
  {
   "cell_type": "code",
   "execution_count": null,
   "id": "5fbe583e-a7a0-4d25-82e1-8518206b37de",
   "metadata": {
    "tags": []
   },
   "outputs": [],
   "source": [
    "# Многие участи дорог содержат некорректные координаты: nan / <25 / >100 и некорректные км\n",
    "\n",
    "road_cols = [\"road_id\", \"road_km\", \"lon\", \"lat\"]\n",
    "road = train[road_cols].copy()\n",
    "road.drop_duplicates(inplace=True)\n",
    "while road[(road.lat > 100) | (road.lon > 100)].shape[0] > 0:\n",
    "    road.loc[road.lon > 100, \"lon\"] = road.lon[road.lon > 100] / 10\n",
    "    road.loc[road.lat > 100, \"lat\"] = road.lat[road.lat > 100] / 10\n",
    "road.sort_values([\"road_id\", \"road_km\", \"lon\"], inplace=True)\n",
    "\n",
    "road.dropna(inplace=True)\n",
    "road = road[(road.lat > 25) & (road.lon > 25)]\n",
    "road = road[road.road_id != 5]\n",
    "km_map = test.groupby(\"road_id\").agg({\"road_km\": (\"min\", \"max\")})\n",
    "km9 = km_map.loc[9, (\"road_km\", \"max\")] + 1\n",
    "km14 = km_map.loc[14, (\"road_km\", \"max\")] + 1\n",
    "\n",
    "road9 = zip(np.ones(km9, dtype=int) * 9, range(km_map.loc[9, (\"road_km\", \"max\")] + 1))\n",
    "road14 = zip(\n",
    "    np.ones(km14, dtype=int) * 14, range(km_map.loc[14, (\"road_km\", \"max\")] + 1)\n",
    ")\n",
    "\n",
    "# road_grid\n",
    "road_grid = pd.DataFrame(list(road9) + list(road14))\n",
    "road_grid.columns = [\"road_id\", \"road_km\"]\n",
    "\n",
    "#get median coords for known kms\n",
    "median_latlon = (\n",
    "    road.groupby([\"road_id\", \"road_km\"])\n",
    "    .agg({\"lat\": \"median\", \"lon\": \"median\"})\n",
    "    .reset_index()\n",
    ")\n",
    "\n",
    "# interpolate unknown kms that are present in test set\n",
    "road_grid = road_grid.merge(median_latlon, on=[\"road_id\", \"road_km\"], how=\"left\")\n",
    "road_grid = road_grid.interpolate()"
   ]
  },
  {
   "cell_type": "markdown",
   "id": "111b161a-e8e8-4337-ab39-5ce0bdbffd5d",
   "metadata": {
    "tags": []
   },
   "source": [
    "## Sort and pkl for future use"
   ]
  },
  {
   "cell_type": "code",
   "execution_count": null,
   "id": "084201fc-30c0-407e-b170-0d7052391168",
   "metadata": {
    "tags": []
   },
   "outputs": [],
   "source": [
    "train.sort_values(\n",
    "    [\"road_id\", \"road_km\", \"dt_year\", \"dt_month\", \"dt_day\", \"dt_hour\"], inplace=True\n",
    ")\n",
    "\n",
    "traffic.sort_values(\n",
    "    [\"road_id\", \"road_km\", \"dt_year\", \"dt_month\", \"dt_day\", \"dt_hour\"], inplace=True\n",
    ")\n",
    "repair.sort_values([\"road_id\", \"road_km\", \"period_st\", \"period_end\"], inplace=True)\n",
    "crash_parts.sort_values([\"road_id\", \"road_km\", \"dt_year\", \"plan_year\"], inplace=True)\n",
    "# atmos\n",
    "# meteo\n",
    "tele2_data.sort_values(\n",
    "    [\"road_id\", \"road_km\", \"dt_year\", \"dt_month\", \"dt_day\", \"dt_hour\"], inplace=True\n",
    ")\n",
    "\n",
    "test.sort_values(\n",
    "    [\"road_id\", \"road_km\", \"dt_year\", \"dt_month\", \"dt_day\", \"dt_hour\"], inplace=True\n",
    ")"
   ]
  },
  {
   "cell_type": "code",
   "execution_count": 64,
   "id": "e07aecf4-ce7b-47fe-bd46-4867e8f98932",
   "metadata": {
    "execution": {
     "iopub.execute_input": "2021-05-29T18:28:15.810981Z",
     "iopub.status.busy": "2021-05-29T18:28:15.810811Z",
     "iopub.status.idle": "2021-05-29T18:28:16.969168Z",
     "shell.execute_reply": "2021-05-29T18:28:16.968540Z",
     "shell.execute_reply.started": "2021-05-29T18:28:15.810964Z"
    },
    "tags": []
   },
   "outputs": [],
   "source": [
    "train = downcast_dtypes(train)\n",
    "train.to_pickle(os.path.join(DATA_PATH, \"train.pkl\"))\n",
    "\n",
    "traffic = downcast_dtypes(traffic)\n",
    "traffic.to_pickle(os.path.join(DATA_PATH, \"traffic.pkl\"))\n",
    "\n",
    "repair.to_pickle(os.path.join(DATA_PATH, \"repair.pkl\"))\n",
    "crash_parts.to_pickle(os.path.join(DATA_PATH, \"crash_parts.pkl\"))\n",
    "atmos.to_pickle(os.path.join(DATA_PATH, \"atmos.pkl\"))\n",
    "meteo.to_pickle(os.path.join(DATA_PATH, \"meteo.pkl\"))\n",
    "tele2_data.to_pickle(os.path.join(DATA_PATH, \"tele2_data.pkl\"))\n",
    "road_grid.to_pickle(os.path.join(DATA_PATH, \"road_grid.pkl\"))\n",
    "\n",
    "test.to_pickle(os.path.join(DATA_PATH, \"test.pkl\"))"
   ]
  },
  {
   "cell_type": "markdown",
   "id": "152ed6bc-50ad-4903-bed4-7473f6285c73",
   "metadata": {
    "heading_collapsed": "true",
    "tags": []
   },
   "source": [
    "# Train grid"
   ]
  },
  {
   "cell_type": "markdown",
   "id": "79ee1879-048e-444d-b44f-0e4d3af068e6",
   "metadata": {
    "tags": []
   },
   "source": [
    "## Lets try to fit everything in memory"
   ]
  },
  {
   "cell_type": "code",
   "execution_count": 4,
   "id": "3d4feeeb-7871-49e7-a043-59117455b33e",
   "metadata": {
    "execution": {
     "iopub.execute_input": "2021-05-29T15:55:33.855192Z",
     "iopub.status.busy": "2021-05-29T15:55:33.854880Z",
     "iopub.status.idle": "2021-05-29T15:55:34.920731Z",
     "shell.execute_reply": "2021-05-29T15:55:34.920023Z",
     "shell.execute_reply.started": "2021-05-29T15:55:33.855159Z"
    },
    "tags": []
   },
   "outputs": [],
   "source": [
    "tmp = pd.DataFrame(\n",
    "    pd.date_range(start=\"2012-01-01 01:00\", end=\"2020-10-25 23:00\", freq=\"h\"), # changed after test_new\n",
    "    columns=[\"datetime\"],\n",
    ")\n",
    "\n",
    "tmp.datetime = tmp.datetime.astype(str)\n",
    "\n",
    "time_grid = convertDate(\n",
    "    tmp,\n",
    "    [\"datetime\"],\n",
    "    [\"dt\"],\n",
    "    suffix=[\"year\", \"month\", \"day\", \"hour\", \"dotw\", \"workDay\", \"week\"],\n",
    ")\n",
    "time_grid.drop(columns='datetime', inplace=True)"
   ]
  },
  {
   "cell_type": "code",
   "execution_count": 5,
   "id": "038dbf83-4add-416d-b571-de78dbd9e31f",
   "metadata": {
    "execution": {
     "iopub.execute_input": "2021-05-29T15:55:37.401338Z",
     "iopub.status.busy": "2021-05-29T15:55:37.400865Z",
     "iopub.status.idle": "2021-05-29T15:56:31.499918Z",
     "shell.execute_reply": "2021-05-29T15:56:31.499390Z",
     "shell.execute_reply.started": "2021-05-29T15:55:37.401284Z"
    },
    "tags": []
   },
   "outputs": [],
   "source": [
    "road_grid = pd.read_pickle(os.path.join(DATA_PATH, \"road_grid.pkl\"))\n",
    "grid = df_crossjoin(time_grid, road_grid) # fits with swap\n",
    "grid = downcast_dtypes(grid)\n",
    "grid.to_pickle(os.path.join(DATA_PATH, \"grid.pkl\"))"
   ]
  },
  {
   "cell_type": "markdown",
   "id": "12eb48d2-947a-40e7-8480-80b7fcc03fab",
   "metadata": {
    "heading_collapsed": "true",
    "tags": []
   },
   "source": [
    "## Merge with train data"
   ]
  },
  {
   "cell_type": "code",
   "execution_count": 9,
   "id": "4052c674-37fd-44b4-aed5-35fa905798ad",
   "metadata": {
    "execution": {
     "iopub.execute_input": "2021-05-29T15:56:49.141170Z",
     "iopub.status.busy": "2021-05-29T15:56:49.140762Z",
     "iopub.status.idle": "2021-05-29T15:56:54.292646Z",
     "shell.execute_reply": "2021-05-29T15:56:54.292075Z",
     "shell.execute_reply.started": "2021-05-29T15:56:49.141121Z"
    },
    "tags": []
   },
   "outputs": [],
   "source": [
    "train = pd.read_pickle(os.path.join(DATA_PATH, \"train.pkl\"))\n",
    "# traffic = pd.read_pickle(os.path.join(DATA_PATH, \"traffic.pkl\"))\n",
    "# repair = pd.read_pickle(os.path.join(DATA_PATH, \"repair.pkl\"))\n",
    "# crash_parts = pd.read_pickle(os.path.join(DATA_PATH, \"crash_parts.pkl\"))\n",
    "# atmos = pd.read_pickle(os.path.join(DATA_PATH, \"atmos.pkl\"))\n",
    "# meteo = pd.read_pickle(os.path.join(DATA_PATH, \"meteo.pkl\"))\n",
    "# tele2_data = pd.read_pickle(os.path.join(DATA_PATH, \"tele2_data.pkl\"))\n",
    "# test = pd.read_pickle(os.path.join(DATA_PATH, \"test.pkl\"))\n",
    "\n",
    "grid = pd.read_pickle(os.path.join(DATA_PATH, \"grid.pkl\"))"
   ]
  },
  {
   "cell_type": "code",
   "execution_count": 10,
   "id": "2666968c-26d9-4cf1-acb0-c55acfd6c7ed",
   "metadata": {
    "execution": {
     "iopub.execute_input": "2021-05-29T15:56:54.293486Z",
     "iopub.status.busy": "2021-05-29T15:56:54.293372Z",
     "iopub.status.idle": "2021-05-29T15:56:54.310361Z",
     "shell.execute_reply": "2021-05-29T15:56:54.309731Z",
     "shell.execute_reply.started": "2021-05-29T15:56:54.293473Z"
    },
    "tags": []
   },
   "outputs": [],
   "source": [
    "train.drop(columns=['lon', 'lat', 'road_name'], inplace=True)\n",
    "\n",
    "#Label Encoding\n",
    "labelencoder = LabelEncoder()\n",
    "train['data_source'] = labelencoder.fit_transform(train['data_source'])"
   ]
  },
  {
   "cell_type": "code",
   "execution_count": 11,
   "id": "a20ae951-7cca-41fb-b3cb-08db635813db",
   "metadata": {
    "execution": {
     "iopub.execute_input": "2021-05-29T15:56:54.311334Z",
     "iopub.status.busy": "2021-05-29T15:56:54.311211Z",
     "iopub.status.idle": "2021-05-29T15:57:57.366433Z",
     "shell.execute_reply": "2021-05-29T15:57:57.365804Z",
     "shell.execute_reply.started": "2021-05-29T15:56:54.311319Z"
    },
    "tags": []
   },
   "outputs": [],
   "source": [
    "grid = pd.merge(\n",
    "    grid,\n",
    "    train,\n",
    "    how='left',\n",
    "    on=[\n",
    "        \"dt_year\",\n",
    "        \"dt_month\",\n",
    "        \"dt_day\",\n",
    "        \"dt_hour\",\n",
    "        \"road_id\",\n",
    "        \"road_km\",\n",
    "    ],\n",
    ")"
   ]
  },
  {
   "cell_type": "code",
   "execution_count": 12,
   "id": "6b5c88cd-a67e-4591-b824-ea574a620e6b",
   "metadata": {
    "execution": {
     "iopub.execute_input": "2021-05-29T15:57:57.367182Z",
     "iopub.status.busy": "2021-05-29T15:57:57.367060Z",
     "iopub.status.idle": "2021-05-29T15:58:29.665269Z",
     "shell.execute_reply": "2021-05-29T15:58:29.664546Z",
     "shell.execute_reply.started": "2021-05-29T15:57:57.367167Z"
    },
    "tags": []
   },
   "outputs": [],
   "source": [
    "grid = downcast_dtypes(grid)\n",
    "grid.to_pickle(os.path.join(DATA_PATH, \"grid.pkl\"))"
   ]
  },
  {
   "cell_type": "markdown",
   "id": "04db66fa-e582-4e5f-b6c8-3a0caa6dffe6",
   "metadata": {
    "tags": []
   },
   "source": [
    "## Merge with trafic data"
   ]
  },
  {
   "cell_type": "code",
   "execution_count": 16,
   "id": "1cfea80c-93cb-438a-8ed6-3f595ad86f2f",
   "metadata": {
    "execution": {
     "iopub.execute_input": "2021-05-29T15:58:40.350575Z",
     "iopub.status.busy": "2021-05-29T15:58:40.350151Z",
     "iopub.status.idle": "2021-05-29T15:58:49.246415Z",
     "shell.execute_reply": "2021-05-29T15:58:49.245837Z",
     "shell.execute_reply.started": "2021-05-29T15:58:40.350522Z"
    },
    "tags": []
   },
   "outputs": [],
   "source": [
    "# train = pd.read_pickle(os.path.join(DATA_PATH, \"train.pkl\"))\n",
    "traffic = pd.read_pickle(os.path.join(DATA_PATH, \"traffic.pkl\"))\n",
    "# repair = pd.read_pickle(os.path.join(DATA_PATH, \"repair.pkl\"))\n",
    "# crash_parts = pd.read_pickle(os.path.join(DATA_PATH, \"crash_parts.pkl\"))\n",
    "# atmos = pd.read_pickle(os.path.join(DATA_PATH, \"atmos.pkl\"))\n",
    "# meteo = pd.read_pickle(os.path.join(DATA_PATH, \"meteo.pkl\"))\n",
    "# tele2_data = pd.read_pickle(os.path.join(DATA_PATH, \"tele2_data.pkl\"))\n",
    "# test = pd.read_pickle(os.path.join(DATA_PATH, \"test.pkl\"))\n",
    "\n",
    "grid = pd.read_pickle(os.path.join(DATA_PATH, \"grid.pkl\"))"
   ]
  },
  {
   "cell_type": "code",
   "execution_count": 17,
   "id": "676223ea-de78-49c4-9301-56a69b726019",
   "metadata": {
    "execution": {
     "iopub.execute_input": "2021-05-29T15:58:49.247199Z",
     "iopub.status.busy": "2021-05-29T15:58:49.247087Z",
     "iopub.status.idle": "2021-05-29T15:58:50.205659Z",
     "shell.execute_reply": "2021-05-29T15:58:50.205127Z",
     "shell.execute_reply.started": "2021-05-29T15:58:49.247185Z"
    },
    "tags": []
   },
   "outputs": [],
   "source": [
    "traffic.drop(columns=['longitude', 'latitude', 'data_id', 'station_id', 'name'], inplace=True)\n",
    "\n",
    "#Label Encoding\n",
    "labelencoder = LabelEncoder()\n",
    "traffic.direction = labelencoder.fit_transform(traffic.direction)"
   ]
  },
  {
   "cell_type": "code",
   "execution_count": 18,
   "id": "47eb6f92-efb4-4765-8cc9-dfaa1b0b5e0b",
   "metadata": {
    "execution": {
     "iopub.execute_input": "2021-05-29T15:58:50.206623Z",
     "iopub.status.busy": "2021-05-29T15:58:50.206508Z",
     "iopub.status.idle": "2021-05-29T15:59:35.468801Z",
     "shell.execute_reply": "2021-05-29T15:59:35.468225Z",
     "shell.execute_reply.started": "2021-05-29T15:58:50.206609Z"
    },
    "tags": []
   },
   "outputs": [],
   "source": [
    "grid = pd.merge(\n",
    "    grid,\n",
    "    traffic,\n",
    "    how='left',\n",
    "    on=[\n",
    "        \"dt_year\",\n",
    "        \"dt_month\",\n",
    "        \"dt_day\",\n",
    "        \"dt_hour\",\n",
    "        \"road_id\",\n",
    "        \"road_km\",\n",
    "    ], \n",
    "    copy=False\n",
    ")"
   ]
  },
  {
   "cell_type": "code",
   "execution_count": 19,
   "id": "ca51e8c1-e7b3-40f3-b175-6a9a6e624558",
   "metadata": {
    "execution": {
     "iopub.execute_input": "2021-05-29T15:59:35.469670Z",
     "iopub.status.busy": "2021-05-29T15:59:35.469535Z",
     "iopub.status.idle": "2021-05-29T16:00:18.406874Z",
     "shell.execute_reply": "2021-05-29T16:00:18.406266Z",
     "shell.execute_reply.started": "2021-05-29T15:59:35.469654Z"
    },
    "tags": []
   },
   "outputs": [],
   "source": [
    "grid = downcast_dtypes(grid)\n",
    "grid.to_pickle(os.path.join(DATA_PATH, \"grid.pkl\"))"
   ]
  },
  {
   "cell_type": "markdown",
   "id": "ca0f7bd6-f893-44ac-8db4-cee08538c28f",
   "metadata": {
    "tags": []
   },
   "source": [
    "## fillna and downcast"
   ]
  },
  {
   "cell_type": "code",
   "execution_count": 25,
   "id": "9c6d0e2f-39c0-4f81-b204-b88b972cce2e",
   "metadata": {
    "execution": {
     "iopub.execute_input": "2021-05-29T16:00:47.653990Z",
     "iopub.status.busy": "2021-05-29T16:00:47.653822Z",
     "iopub.status.idle": "2021-05-29T16:00:59.679994Z",
     "shell.execute_reply": "2021-05-29T16:00:59.679637Z",
     "shell.execute_reply.started": "2021-05-29T16:00:47.653973Z"
    },
    "tags": []
   },
   "outputs": [],
   "source": [
    "# train = pd.read_pickle(os.path.join(DATA_PATH, \"train.pkl\"))\n",
    "# traffic = pd.read_pickle(os.path.join(DATA_PATH, \"traffic.pkl\"))\n",
    "# repair = pd.read_pickle(os.path.join(DATA_PATH, \"repair.pkl\"))\n",
    "# crash_parts = pd.read_pickle(os.path.join(DATA_PATH, \"crash_parts.pkl\"))\n",
    "# atmos = pd.read_pickle(os.path.join(DATA_PATH, \"atmos.pkl\"))\n",
    "# meteo = pd.read_pickle(os.path.join(DATA_PATH, \"meteo.pkl\"))\n",
    "# tele2_data = pd.read_pickle(os.path.join(DATA_PATH, \"tele2_data.pkl\"))\n",
    "# test = pd.read_pickle(os.path.join(DATA_PATH, \"test.pkl\"))\n",
    "\n",
    "grid = pd.read_pickle(os.path.join(DATA_PATH, \"grid.pkl\"))"
   ]
  },
  {
   "cell_type": "code",
   "execution_count": 26,
   "id": "90b934a3-05cf-469a-a8e2-9a6f55749a2b",
   "metadata": {
    "execution": {
     "iopub.execute_input": "2021-05-29T16:00:59.680722Z",
     "iopub.status.busy": "2021-05-29T16:00:59.680604Z",
     "iopub.status.idle": "2021-05-29T16:06:55.557995Z",
     "shell.execute_reply": "2021-05-29T16:06:55.557138Z",
     "shell.execute_reply.started": "2021-05-29T16:00:59.680708Z"
    },
    "tags": []
   },
   "outputs": [],
   "source": [
    "grid.target = grid.target.fillna(0).astype(np.int16)\n",
    "grid.man_injured_num = grid.man_injured_num.fillna(0).astype(np.int16) # other value for na?\n",
    "grid.man_dead_num = grid.man_dead_num.fillna(0).astype(np.int16) # other value for na?\n",
    "\n",
    "# grid.data_source = grid.data_source.fillna(-1).astype(np.int16) # other value for na?\n",
    "grid.drop(columns=['data_source'], inplace=True)\n",
    "\n",
    "grid.lane_count.interpolate(limit_area='inside', inplace=True)\n",
    "grid.lane_count = grid.lane_count.fillna(method='bfill').fillna(method='ffill').astype(np.int16)\n",
    "\n",
    "grid.direction = grid.direction.fillna(0.5)#.astype(np.int16) # other value for na?\n",
    "\n",
    "grid.car_damaged_num = grid.car_damaged_num.fillna(0).astype(np.int16) # other value for na?\n",
    "\n",
    "grid.volume.interpolate(limit_area='inside', inplace=True)\n",
    "grid.volume = grid.volume.fillna(method='bfill').fillna(method='ffill').astype(np.int16)\n",
    "\n",
    "grid.occupancy.interpolate(limit_area='inside', inplace=True)\n",
    "grid.occupancy = grid.occupancy.fillna(method='bfill').fillna(method='ffill').astype(np.int16)\n",
    "\n",
    "grid.speed.interpolate(limit_area='inside', inplace=True)\n",
    "grid.speed = grid.speed.fillna(method='bfill').fillna(method='ffill').astype(np.int16)\n",
    "\n",
    "grid.lane.interpolate(limit_area='inside', inplace=True)\n",
    "grid.lane = grid.lane.fillna(method='bfill').fillna(method='ffill').astype(np.int16)\n",
    "\n",
    "grid.to_pickle(os.path.join(DATA_PATH, \"grid_.pkl\"))"
   ]
  },
  {
   "cell_type": "markdown",
   "id": "6bc6c3fe-697d-4c05-b702-a1fbead11e1a",
   "metadata": {},
   "source": [
    "## Lag features"
   ]
  },
  {
   "cell_type": "code",
   "execution_count": 4,
   "id": "caa5f6a2-ffe0-4fe2-b73c-9f22b51e3508",
   "metadata": {
    "execution": {
     "iopub.execute_input": "2021-05-29T17:39:22.071535Z",
     "iopub.status.busy": "2021-05-29T17:39:22.071350Z",
     "iopub.status.idle": "2021-05-29T17:39:33.811193Z",
     "shell.execute_reply": "2021-05-29T17:39:33.810634Z",
     "shell.execute_reply.started": "2021-05-29T17:39:22.071517Z"
    },
    "tags": []
   },
   "outputs": [],
   "source": [
    "# train = pd.read_pickle(os.path.join(DATA_PATH, \"train.pkl\"))\n",
    "# traffic = pd.read_pickle(os.path.join(DATA_PATH, \"traffic.pkl\"))\n",
    "# repair = pd.read_pickle(os.path.join(DATA_PATH, \"repair.pkl\"))\n",
    "# crash_parts = pd.read_pickle(os.path.join(DATA_PATH, \"crash_parts.pkl\"))\n",
    "# atmos = pd.read_pickle(os.path.join(DATA_PATH, \"atmos.pkl\"))\n",
    "# meteo = pd.read_pickle(os.path.join(DATA_PATH, \"meteo.pkl\"))\n",
    "# tele2_data = pd.read_pickle(os.path.join(DATA_PATH, \"tele2_data.pkl\"))\n",
    "# test = pd.read_pickle(os.path.join(DATA_PATH, \"test.pkl\"))\n",
    "\n",
    "grid = pd.read_pickle(os.path.join(DATA_PATH, \"grid_.pkl\"))"
   ]
  },
  {
   "cell_type": "code",
   "execution_count": 20,
   "id": "c90f8747-e445-466f-94e5-67638064a797",
   "metadata": {
    "execution": {
     "iopub.execute_input": "2021-05-29T17:13:00.376157Z",
     "iopub.status.busy": "2021-05-29T17:13:00.376044Z",
     "iopub.status.idle": "2021-05-29T17:13:00.379598Z",
     "shell.execute_reply": "2021-05-29T17:13:00.379137Z",
     "shell.execute_reply.started": "2021-05-29T17:13:00.376143Z"
    },
    "tags": []
   },
   "outputs": [
    {
     "data": {
      "text/plain": [
       "Index(['dt_year', 'dt_month', 'dt_day', 'dt_hour', 'dt_dotw', 'dt_workDay',\n",
       "       'dt_week', 'road_id', 'road_km', 'lat', 'lon', 'man_injured_num',\n",
       "       'man_dead_num', 'car_damaged_num', 'target', 'lane', 'lane_count',\n",
       "       'direction', 'volume', 'occupancy', 'speed'],\n",
       "      dtype='object')"
      ]
     },
     "execution_count": 20,
     "metadata": {},
     "output_type": "execute_result"
    }
   ],
   "source": [
    "grid.columns"
   ]
  },
  {
   "cell_type": "code",
   "execution_count": 5,
   "id": "d91e7ed2-99e9-4a34-ac2e-690c79d3434e",
   "metadata": {
    "execution": {
     "iopub.execute_input": "2021-05-29T17:39:33.813243Z",
     "iopub.status.busy": "2021-05-29T17:39:33.812879Z",
     "iopub.status.idle": "2021-05-29T17:41:34.423784Z",
     "shell.execute_reply": "2021-05-29T17:41:34.423197Z",
     "shell.execute_reply.started": "2021-05-29T17:39:33.813198Z"
    },
    "tags": []
   },
   "outputs": [],
   "source": [
    "grid.sort_values([\"road_id\", \"road_km\", \"dt_year\", \"dt_month\", \"dt_day\", \"dt_hour\"], inplace=True)"
   ]
  },
  {
   "cell_type": "code",
   "execution_count": 6,
   "id": "99752897-22a4-4970-8514-3ba91428df42",
   "metadata": {
    "execution": {
     "iopub.execute_input": "2021-05-29T17:41:35.071504Z",
     "iopub.status.busy": "2021-05-29T17:41:35.071388Z",
     "iopub.status.idle": "2021-05-29T17:41:52.293554Z",
     "shell.execute_reply": "2021-05-29T17:41:52.293167Z",
     "shell.execute_reply.started": "2021-05-29T17:41:35.071490Z"
    }
   },
   "outputs": [],
   "source": [
    "grid.to_pickle(os.path.join(DATA_PATH, \"grid_pre_lag.pkl\"))"
   ]
  },
  {
   "cell_type": "code",
   "execution_count": 10,
   "id": "4e548047-d178-49c1-89dc-5858d551e707",
   "metadata": {
    "execution": {
     "iopub.execute_input": "2021-05-29T17:41:52.789664Z",
     "iopub.status.busy": "2021-05-29T17:41:52.789238Z",
     "iopub.status.idle": "2021-05-29T17:42:01.427877Z",
     "shell.execute_reply": "2021-05-29T17:42:01.427191Z",
     "shell.execute_reply.started": "2021-05-29T17:41:52.789621Z"
    }
   },
   "outputs": [],
   "source": [
    "grid = pd.read_pickle(os.path.join(DATA_PATH, \"grid_pre_lag.pkl\"))"
   ]
  },
  {
   "cell_type": "code",
   "execution_count": 11,
   "id": "ca134b0c-aea9-4208-b97b-3a1ece0e0835",
   "metadata": {
    "execution": {
     "iopub.execute_input": "2021-05-29T17:42:01.430621Z",
     "iopub.status.busy": "2021-05-29T17:42:01.430251Z",
     "iopub.status.idle": "2021-05-29T17:42:01.432998Z",
     "shell.execute_reply": "2021-05-29T17:42:01.432701Z",
     "shell.execute_reply.started": "2021-05-29T17:42:01.430574Z"
    },
    "tags": []
   },
   "outputs": [],
   "source": [
    "encode_columns = [\n",
    "    \"man_injured_num\",\n",
    "    \"man_dead_num\",\n",
    "    \"car_damaged_num\",\n",
    "    \"target\",\n",
    "    \"lane\",\n",
    "    \"direction\",\n",
    "    \"volume\",\n",
    "    \"occupancy\",\n",
    "    \"speed\",\n",
    "]"
   ]
  },
  {
   "cell_type": "code",
   "execution_count": 12,
   "id": "d7163bdd-1718-4365-b28e-784033cd1b68",
   "metadata": {
    "execution": {
     "iopub.execute_input": "2021-05-29T17:42:01.433620Z",
     "iopub.status.busy": "2021-05-29T17:42:01.433512Z",
     "iopub.status.idle": "2021-05-29T17:43:42.547441Z",
     "shell.execute_reply": "2021-05-29T17:43:42.546834Z",
     "shell.execute_reply.started": "2021-05-29T17:42:01.433606Z"
    },
    "tags": []
   },
   "outputs": [],
   "source": [
    "for r in [9, 14]:\n",
    "    grid.loc[grid.road_id == r, encode_columns] = grid.loc[\n",
    "        grid.road_id == r, encode_columns\n",
    "    ].shift(1)"
   ]
  },
  {
   "cell_type": "code",
   "execution_count": 14,
   "id": "2d21b06f-5c48-4f8f-b63b-2b6969a341e6",
   "metadata": {
    "execution": {
     "iopub.execute_input": "2021-05-29T17:45:17.503186Z",
     "iopub.status.busy": "2021-05-29T17:45:17.502769Z",
     "iopub.status.idle": "2021-05-29T17:45:47.442212Z",
     "shell.execute_reply": "2021-05-29T17:45:47.441586Z",
     "shell.execute_reply.started": "2021-05-29T17:45:17.503136Z"
    },
    "tags": []
   },
   "outputs": [],
   "source": [
    "grid = downcast_dtypes(grid)"
   ]
  },
  {
   "cell_type": "code",
   "execution_count": 15,
   "id": "f3c9c673-1a43-42aa-872d-106fa400df8f",
   "metadata": {
    "execution": {
     "iopub.execute_input": "2021-05-29T17:45:47.443107Z",
     "iopub.status.busy": "2021-05-29T17:45:47.442991Z",
     "iopub.status.idle": "2021-05-29T17:46:10.734130Z",
     "shell.execute_reply": "2021-05-29T17:46:10.733506Z",
     "shell.execute_reply.started": "2021-05-29T17:45:47.443094Z"
    },
    "tags": []
   },
   "outputs": [],
   "source": [
    "grid.to_pickle(os.path.join(DATA_PATH, \"grid_lag.pkl\"))"
   ]
  },
  {
   "cell_type": "code",
   "execution_count": 16,
   "id": "effc7059-88cb-4d53-8342-1ca6021bdd15",
   "metadata": {
    "execution": {
     "iopub.execute_input": "2021-05-29T17:46:10.735484Z",
     "iopub.status.busy": "2021-05-29T17:46:10.735305Z",
     "iopub.status.idle": "2021-05-29T17:46:29.602080Z",
     "shell.execute_reply": "2021-05-29T17:46:29.601034Z",
     "shell.execute_reply.started": "2021-05-29T17:46:10.735461Z"
    },
    "tags": []
   },
   "outputs": [],
   "source": [
    "grid.dropna(inplace=True)"
   ]
  },
  {
   "cell_type": "code",
   "execution_count": 17,
   "id": "e64e3844-9424-4a3a-88b6-f8c7badacb60",
   "metadata": {
    "execution": {
     "iopub.execute_input": "2021-05-29T17:46:29.604114Z",
     "iopub.status.busy": "2021-05-29T17:46:29.603751Z",
     "iopub.status.idle": "2021-05-29T17:46:29.618540Z",
     "shell.execute_reply": "2021-05-29T17:46:29.617960Z",
     "shell.execute_reply.started": "2021-05-29T17:46:29.604066Z"
    },
    "tags": []
   },
   "outputs": [
    {
     "name": "stdout",
     "output_type": "stream",
     "text": [
      "<class 'pandas.core.frame.DataFrame'>\n",
      "Int64Index: 222461297 entries, 2819 to 222461298\n",
      "Data columns (total 21 columns):\n",
      " #   Column           Dtype  \n",
      "---  ------           -----  \n",
      " 0   dt_year          int16  \n",
      " 1   dt_month         int16  \n",
      " 2   dt_day           int16  \n",
      " 3   dt_hour          int16  \n",
      " 4   dt_dotw          int16  \n",
      " 5   dt_workDay       int16  \n",
      " 6   dt_week          int16  \n",
      " 7   road_id          int16  \n",
      " 8   road_km          int16  \n",
      " 9   lat              float32\n",
      " 10  lon              float32\n",
      " 11  man_injured_num  float32\n",
      " 12  man_dead_num     float32\n",
      " 13  car_damaged_num  float32\n",
      " 14  target           float32\n",
      " 15  lane             float32\n",
      " 16  lane_count       int16  \n",
      " 17  direction        float32\n",
      " 18  volume           float32\n",
      " 19  occupancy        float32\n",
      " 20  speed            float32\n",
      "dtypes: float32(11), int16(10)\n",
      "memory usage: 14.9 GB\n"
     ]
    }
   ],
   "source": [
    "grid.info()"
   ]
  },
  {
   "cell_type": "code",
   "execution_count": 18,
   "id": "34af0ba5-ee4f-4351-9531-6c695fa36a44",
   "metadata": {
    "execution": {
     "iopub.execute_input": "2021-05-29T17:47:02.735204Z",
     "iopub.status.busy": "2021-05-29T17:47:02.734555Z",
     "iopub.status.idle": "2021-05-29T17:47:16.261664Z",
     "shell.execute_reply": "2021-05-29T17:47:16.261084Z",
     "shell.execute_reply.started": "2021-05-29T17:47:02.735120Z"
    },
    "tags": []
   },
   "outputs": [],
   "source": [
    "grid.man_injured_num = grid.man_injured_num.astype(np.int16)\n",
    "grid.man_dead_num = grid.man_dead_num.astype(np.int16)\n",
    "grid.car_damaged_num = grid.car_damaged_num.astype(np.int16)\n",
    "grid.volume = grid.volume.astype(np.int16)\n",
    "grid.occupancy = grid.occupancy.astype(np.int16)\n",
    "grid.speed = grid.speed.astype(np.int16)\n",
    "grid.lane = grid.lane.astype(np.int16)"
   ]
  },
  {
   "cell_type": "code",
   "execution_count": 19,
   "id": "9ecf4770-a7b4-4bbf-9b9a-2cf39a52ca38",
   "metadata": {
    "execution": {
     "iopub.execute_input": "2021-05-29T17:47:16.262411Z",
     "iopub.status.busy": "2021-05-29T17:47:16.262304Z",
     "iopub.status.idle": "2021-05-29T17:47:37.289946Z",
     "shell.execute_reply": "2021-05-29T17:47:37.289244Z",
     "shell.execute_reply.started": "2021-05-29T17:47:16.262398Z"
    }
   },
   "outputs": [],
   "source": [
    "grid.to_pickle(os.path.join(DATA_PATH, \"grid_lag.pkl\"))"
   ]
  },
  {
   "cell_type": "markdown",
   "id": "e490656f-aecc-447a-93e7-e049694bba8a",
   "metadata": {
    "tags": []
   },
   "source": [
    "# Baseline"
   ]
  },
  {
   "cell_type": "markdown",
   "id": "6481d765-5f3f-432d-a755-2f451791779c",
   "metadata": {
    "heading_collapsed": "true",
    "tags": []
   },
   "source": [
    "## Count weights"
   ]
  },
  {
   "cell_type": "code",
   "execution_count": 82,
   "id": "82621898-5e8d-407b-a620-d1603a720732",
   "metadata": {
    "execution": {
     "iopub.execute_input": "2021-05-29T18:39:00.784046Z",
     "iopub.status.busy": "2021-05-29T18:39:00.783609Z",
     "iopub.status.idle": "2021-05-29T18:39:18.674783Z",
     "shell.execute_reply": "2021-05-29T18:39:18.673970Z",
     "shell.execute_reply.started": "2021-05-29T18:39:00.783996Z"
    }
   },
   "outputs": [],
   "source": [
    "# train = pd.read_pickle(os.path.join(DATA_PATH, \"train.pkl\"))\n",
    "# traffic = pd.read_pickle(os.path.join(DATA_PATH, \"traffic.pkl\"))\n",
    "# repair = pd.read_pickle(os.path.join(DATA_PATH, \"repair.pkl\"))\n",
    "# crash_parts = pd.read_pickle(os.path.join(DATA_PATH, \"crash_parts.pkl\"))\n",
    "# atmos = pd.read_pickle(os.path.join(DATA_PATH, \"atmos.pkl\"))\n",
    "# meteo = pd.read_pickle(os.path.join(DATA_PATH, \"meteo.pkl\"))\n",
    "# tele2_data = pd.read_pickle(os.path.join(DATA_PATH, \"tele2_data.pkl\"))\n",
    "# test = pd.read_pickle(os.path.join(DATA_PATH, \"test.pkl\"))\n",
    "\n",
    "grid = pd.read_pickle(os.path.join(DATA_PATH, \"grid_.pkl\"))"
   ]
  },
  {
   "cell_type": "code",
   "execution_count": 83,
   "id": "37f5f3ff-248e-4b7c-ba8a-c7047888146a",
   "metadata": {
    "execution": {
     "iopub.execute_input": "2021-05-29T18:39:18.675574Z",
     "iopub.status.busy": "2021-05-29T18:39:18.675461Z",
     "iopub.status.idle": "2021-05-29T18:39:23.625890Z",
     "shell.execute_reply": "2021-05-29T18:39:23.625300Z",
     "shell.execute_reply.started": "2021-05-29T18:39:18.675561Z"
    }
   },
   "outputs": [],
   "source": [
    "grid = grid[(grid.dt_year >= 2020)]"
   ]
  },
  {
   "cell_type": "code",
   "execution_count": 88,
   "id": "7686a2d8-b207-4afb-bf03-7c829959a075",
   "metadata": {
    "execution": {
     "iopub.execute_input": "2021-05-29T18:39:42.154006Z",
     "iopub.status.busy": "2021-05-29T18:39:42.153731Z",
     "iopub.status.idle": "2021-05-29T18:39:42.159194Z",
     "shell.execute_reply": "2021-05-29T18:39:42.158222Z",
     "shell.execute_reply.started": "2021-05-29T18:39:42.153989Z"
    },
    "tags": []
   },
   "outputs": [],
   "source": [
    "gb = grid.groupby(by=['dt_year', 'target'])"
   ]
  },
  {
   "cell_type": "code",
   "execution_count": 89,
   "id": "75e58947-a09e-40db-848c-da06a0e0a59e",
   "metadata": {
    "execution": {
     "iopub.execute_input": "2021-05-29T18:39:43.139241Z",
     "iopub.status.busy": "2021-05-29T18:39:43.138840Z",
     "iopub.status.idle": "2021-05-29T18:39:44.503492Z",
     "shell.execute_reply": "2021-05-29T18:39:44.502986Z",
     "shell.execute_reply.started": "2021-05-29T18:39:43.139192Z"
    },
    "tags": []
   },
   "outputs": [
    {
     "data": {
      "text/html": [
       "<div>\n",
       "<style scoped>\n",
       "    .dataframe tbody tr th:only-of-type {\n",
       "        vertical-align: middle;\n",
       "    }\n",
       "\n",
       "    .dataframe tbody tr th {\n",
       "        vertical-align: top;\n",
       "    }\n",
       "\n",
       "    .dataframe thead th {\n",
       "        text-align: right;\n",
       "    }\n",
       "</style>\n",
       "<table border=\"1\" class=\"dataframe\">\n",
       "  <thead>\n",
       "    <tr style=\"text-align: right;\">\n",
       "      <th></th>\n",
       "      <th></th>\n",
       "      <th>dt_month</th>\n",
       "      <th>dt_day</th>\n",
       "      <th>dt_hour</th>\n",
       "      <th>dt_dotw</th>\n",
       "      <th>dt_workDay</th>\n",
       "      <th>dt_week</th>\n",
       "      <th>road_id</th>\n",
       "      <th>road_km</th>\n",
       "      <th>lat</th>\n",
       "      <th>lon</th>\n",
       "      <th>man_injured_num</th>\n",
       "      <th>man_dead_num</th>\n",
       "      <th>car_damaged_num</th>\n",
       "      <th>lane</th>\n",
       "      <th>lane_count</th>\n",
       "      <th>direction</th>\n",
       "      <th>volume</th>\n",
       "      <th>occupancy</th>\n",
       "      <th>speed</th>\n",
       "    </tr>\n",
       "    <tr>\n",
       "      <th>dt_year</th>\n",
       "      <th>target</th>\n",
       "      <th></th>\n",
       "      <th></th>\n",
       "      <th></th>\n",
       "      <th></th>\n",
       "      <th></th>\n",
       "      <th></th>\n",
       "      <th></th>\n",
       "      <th></th>\n",
       "      <th></th>\n",
       "      <th></th>\n",
       "      <th></th>\n",
       "      <th></th>\n",
       "      <th></th>\n",
       "      <th></th>\n",
       "      <th></th>\n",
       "      <th></th>\n",
       "      <th></th>\n",
       "      <th></th>\n",
       "      <th></th>\n",
       "    </tr>\n",
       "  </thead>\n",
       "  <tbody>\n",
       "    <tr>\n",
       "      <th rowspan=\"3\" valign=\"top\">2020</th>\n",
       "      <th>0</th>\n",
       "      <td>20862931</td>\n",
       "      <td>20862931</td>\n",
       "      <td>20862931</td>\n",
       "      <td>20862931</td>\n",
       "      <td>20862931</td>\n",
       "      <td>20862931</td>\n",
       "      <td>20862931</td>\n",
       "      <td>20862931</td>\n",
       "      <td>20862931</td>\n",
       "      <td>20862931</td>\n",
       "      <td>20862931</td>\n",
       "      <td>20862931</td>\n",
       "      <td>20862931</td>\n",
       "      <td>20862931</td>\n",
       "      <td>20862931</td>\n",
       "      <td>20862931</td>\n",
       "      <td>20862931</td>\n",
       "      <td>20862931</td>\n",
       "      <td>20862931</td>\n",
       "    </tr>\n",
       "    <tr>\n",
       "      <th>1</th>\n",
       "      <td>2430</td>\n",
       "      <td>2430</td>\n",
       "      <td>2430</td>\n",
       "      <td>2430</td>\n",
       "      <td>2430</td>\n",
       "      <td>2430</td>\n",
       "      <td>2430</td>\n",
       "      <td>2430</td>\n",
       "      <td>2430</td>\n",
       "      <td>2430</td>\n",
       "      <td>2430</td>\n",
       "      <td>2430</td>\n",
       "      <td>2430</td>\n",
       "      <td>2430</td>\n",
       "      <td>2430</td>\n",
       "      <td>2430</td>\n",
       "      <td>2430</td>\n",
       "      <td>2430</td>\n",
       "      <td>2430</td>\n",
       "    </tr>\n",
       "    <tr>\n",
       "      <th>2</th>\n",
       "      <td>503</td>\n",
       "      <td>503</td>\n",
       "      <td>503</td>\n",
       "      <td>503</td>\n",
       "      <td>503</td>\n",
       "      <td>503</td>\n",
       "      <td>503</td>\n",
       "      <td>503</td>\n",
       "      <td>503</td>\n",
       "      <td>503</td>\n",
       "      <td>503</td>\n",
       "      <td>503</td>\n",
       "      <td>503</td>\n",
       "      <td>503</td>\n",
       "      <td>503</td>\n",
       "      <td>503</td>\n",
       "      <td>503</td>\n",
       "      <td>503</td>\n",
       "      <td>503</td>\n",
       "    </tr>\n",
       "  </tbody>\n",
       "</table>\n",
       "</div>"
      ],
      "text/plain": [
       "                dt_month    dt_day   dt_hour   dt_dotw  dt_workDay   dt_week  \\\n",
       "dt_year target                                                                 \n",
       "2020    0       20862931  20862931  20862931  20862931    20862931  20862931   \n",
       "        1           2430      2430      2430      2430        2430      2430   \n",
       "        2            503       503       503       503         503       503   \n",
       "\n",
       "                 road_id   road_km       lat       lon  man_injured_num  \\\n",
       "dt_year target                                                            \n",
       "2020    0       20862931  20862931  20862931  20862931         20862931   \n",
       "        1           2430      2430      2430      2430             2430   \n",
       "        2            503       503       503       503              503   \n",
       "\n",
       "                man_dead_num  car_damaged_num      lane  lane_count  \\\n",
       "dt_year target                                                        \n",
       "2020    0           20862931         20862931  20862931    20862931   \n",
       "        1               2430             2430      2430        2430   \n",
       "        2                503              503       503         503   \n",
       "\n",
       "                direction    volume  occupancy     speed  \n",
       "dt_year target                                            \n",
       "2020    0        20862931  20862931   20862931  20862931  \n",
       "        1            2430      2430       2430      2430  \n",
       "        2             503       503        503       503  "
      ]
     },
     "execution_count": 89,
     "metadata": {},
     "output_type": "execute_result"
    }
   ],
   "source": [
    "gb.count()"
   ]
  },
  {
   "cell_type": "markdown",
   "id": "3c96f08e-9669-4240-9adf-f7d5abf80891",
   "metadata": {
    "tags": []
   },
   "source": [
    "## LGB"
   ]
  },
  {
   "cell_type": "markdown",
   "id": "84e6544d-c04b-421e-98bc-2470f04e8b9d",
   "metadata": {
    "heading_collapsed": "true",
    "tags": []
   },
   "source": [
    "### prepare"
   ]
  },
  {
   "cell_type": "code",
   "execution_count": 4,
   "id": "71ce5ef1-b5cc-452b-b265-3511a901c097",
   "metadata": {
    "execution": {
     "iopub.execute_input": "2021-05-29T20:12:44.629488Z",
     "iopub.status.busy": "2021-05-29T20:12:44.629027Z",
     "iopub.status.idle": "2021-05-29T20:13:03.289893Z",
     "shell.execute_reply": "2021-05-29T20:13:03.289316Z",
     "shell.execute_reply.started": "2021-05-29T20:12:44.629426Z"
    },
    "tags": []
   },
   "outputs": [],
   "source": [
    "# train = pd.read_pickle(os.path.join(DATA_PATH, \"train.pkl\"))\n",
    "# traffic = pd.read_pickle(os.path.join(DATA_PATH, \"traffic.pkl\"))\n",
    "# repair = pd.read_pickle(os.path.join(DATA_PATH, \"repair.pkl\"))\n",
    "# crash_parts = pd.read_pickle(os.path.join(DATA_PATH, \"crash_parts.pkl\"))\n",
    "# atmos = pd.read_pickle(os.path.join(DATA_PATH, \"atmos.pkl\"))\n",
    "# meteo = pd.read_pickle(os.path.join(DATA_PATH, \"meteo.pkl\"))\n",
    "# tele2_data = pd.read_pickle(os.path.join(DATA_PATH, \"tele2_data.pkl\"))\n",
    "# test = pd.read_pickle(os.path.join(DATA_PATH, \"test.pkl\"))\n",
    "\n",
    "grid = pd.read_pickle(os.path.join(DATA_PATH, \"grid_lag.pkl\"))"
   ]
  },
  {
   "cell_type": "code",
   "execution_count": 5,
   "id": "2b835bc2-a693-48d8-95ab-78b851371267",
   "metadata": {
    "execution": {
     "iopub.execute_input": "2021-05-29T20:13:03.290751Z",
     "iopub.status.busy": "2021-05-29T20:13:03.290636Z",
     "iopub.status.idle": "2021-05-29T20:13:11.887784Z",
     "shell.execute_reply": "2021-05-29T20:13:11.887198Z",
     "shell.execute_reply.started": "2021-05-29T20:13:03.290738Z"
    },
    "tags": []
   },
   "outputs": [],
   "source": [
    "grid = grid[(grid.dt_year >= 2015) & (grid.dt_year < 2020)]"
   ]
  },
  {
   "cell_type": "code",
   "execution_count": 6,
   "id": "58fe93c5-6d13-46cc-90ee-90c9821f6226",
   "metadata": {
    "execution": {
     "iopub.execute_input": "2021-05-29T20:13:11.888856Z",
     "iopub.status.busy": "2021-05-29T20:13:11.888681Z",
     "iopub.status.idle": "2021-05-29T20:13:27.904259Z",
     "shell.execute_reply": "2021-05-29T20:13:27.903872Z",
     "shell.execute_reply.started": "2021-05-29T20:13:11.888835Z"
    },
    "tags": []
   },
   "outputs": [],
   "source": [
    "y_train = grid.target\n",
    "x_train = grid.drop(columns=['target'])\n",
    "%reset_selective -f grid\n",
    "\n",
    "y_train.to_pickle(os.path.join(DATA_PATH, \"y_train.pkl\"))\n",
    "%reset_selective -f y_train\n",
    "x_train.to_pickle(os.path.join(DATA_PATH, \"x_train.pkl\"))\n",
    "%reset_selective -f x_train"
   ]
  },
  {
   "cell_type": "markdown",
   "id": "b18d9c95-79b3-4dcc-b613-cba15353d69b",
   "metadata": {
    "tags": []
   },
   "source": [
    "### train"
   ]
  },
  {
   "cell_type": "code",
   "execution_count": 4,
   "id": "797376f0-25ed-4699-a230-45b3832fed4f",
   "metadata": {
    "execution": {
     "iopub.execute_input": "2021-05-29T22:46:33.449902Z",
     "iopub.status.busy": "2021-05-29T22:46:33.449740Z",
     "iopub.status.idle": "2021-05-29T22:46:40.382988Z",
     "shell.execute_reply": "2021-05-29T22:46:40.382413Z",
     "shell.execute_reply.started": "2021-05-29T22:46:33.449885Z"
    },
    "tags": []
   },
   "outputs": [],
   "source": [
    "y_train = pd.read_pickle(os.path.join(DATA_PATH, \"y_train.pkl\"))\n",
    "x_train = pd.read_pickle(os.path.join(DATA_PATH, \"x_train.pkl\"))\n",
    "lgb_train = lgb.Dataset(x_train, y_train)\n",
    "\n",
    "y_val = pd.read_pickle(os.path.join(DATA_PATH, \"y_test.pkl\"))\n",
    "x_val = pd.read_pickle(os.path.join(DATA_PATH, \"x_test.pkl\"))\n",
    "lgb_eval = lgb.Dataset(x_val, y_val, reference=lgb_train)"
   ]
  },
  {
   "cell_type": "code",
   "execution_count": 5,
   "id": "2011dea7-b05d-4f1a-922b-1b90fa73de38",
   "metadata": {
    "execution": {
     "iopub.execute_input": "2021-05-29T22:46:40.383786Z",
     "iopub.status.busy": "2021-05-29T22:46:40.383672Z",
     "iopub.status.idle": "2021-05-29T22:46:40.387078Z",
     "shell.execute_reply": "2021-05-29T22:46:40.386123Z",
     "shell.execute_reply.started": "2021-05-29T22:46:40.383772Z"
    },
    "tags": []
   },
   "outputs": [],
   "source": [
    "# params = {\n",
    "#     \"boosting_type\": \"gbdt\",\n",
    "#     \"objective\": \"binary\",\n",
    "#     \"metric\": \"binary_logloss\",\n",
    "#     \"num_leaves\": 31,\n",
    "#     \"learning_rate\": 0.05,\n",
    "#     \"feature_fraction\": 0.9,\n",
    "#     \"bagging_fraction\": 0.8,\n",
    "#     \"bagging_freq\": 5,\n",
    "#     \"verbose\": 0,\n",
    "# }\n",
    "\n",
    "fit_params = {\n",
    "    #     \"max_depth\": -1,\n",
    "    \"objective\": \"multiclass\",\n",
    "    \"metric\": \"None\",\n",
    "    \"learning_rate\": 0.05,\n",
    "    \"feature_fraction\": 0.9,\n",
    "    \"bagging_fraction\": 0.8,\n",
    "    \"bagging_freq\": 5,\n",
    "    \"random_state\": 42,\n",
    "    \"n_jobs\": 8,\n",
    "    \"n_estimators\": 10,\n",
    "    \"num_class\": 4\n",
    "    #     \"class_weight\": \"balanced\",\n",
    "}"
   ]
  },
  {
   "cell_type": "code",
   "execution_count": null,
   "id": "921813a3-f22e-4095-97fa-a779cf0795e7",
   "metadata": {
    "tags": []
   },
   "outputs": [],
   "source": [
    "gbm = lgb.train(\n",
    "    fit_params,\n",
    "    lgb_train,\n",
    "    num_boost_round=10,\n",
    "#     fobj=lgb_f1_score,\n",
    "    feval=lgb_f1_score,\n",
    "    valid_sets=lgb_eval\n",
    ")"
   ]
  },
  {
   "cell_type": "code",
   "execution_count": null,
   "id": "02cee843-30b8-4c19-875c-ba225e115fe1",
   "metadata": {
    "tags": []
   },
   "outputs": [],
   "source": [
    "joblib.dump(gbm, os.path.join(MODEL_PATH, 'gbm_train_v2.pkl'))"
   ]
  },
  {
   "cell_type": "code",
   "execution_count": 25,
   "id": "3e1efdd7-c602-4b3a-acd3-9b6f43be9677",
   "metadata": {
    "execution": {
     "iopub.execute_input": "2021-05-29T22:11:31.350568Z",
     "iopub.status.busy": "2021-05-29T22:11:31.350103Z",
     "iopub.status.idle": "2021-05-29T22:11:31.356420Z",
     "shell.execute_reply": "2021-05-29T22:11:31.355363Z",
     "shell.execute_reply.started": "2021-05-29T22:11:31.350516Z"
    },
    "tags": []
   },
   "outputs": [
    {
     "name": "stdout",
     "output_type": "stream",
     "text": [
      "Feature names: ['dt_year', 'dt_month', 'dt_day', 'dt_hour', 'dt_dotw', 'dt_workDay', 'dt_week', 'road_id', 'road_km', 'lat', 'lon', 'man_injured_num', 'man_dead_num', 'car_damaged_num', 'lane', 'lane_count', 'direction', 'volume', 'occupancy', 'speed']\n"
     ]
    }
   ],
   "source": [
    "print('Feature names:', gbm.feature_name())"
   ]
  },
  {
   "cell_type": "code",
   "execution_count": 26,
   "id": "da2f8ace-0deb-4a64-b696-fe75b17933bb",
   "metadata": {
    "execution": {
     "iopub.execute_input": "2021-05-29T22:11:31.818104Z",
     "iopub.status.busy": "2021-05-29T22:11:31.817648Z",
     "iopub.status.idle": "2021-05-29T22:11:31.822746Z",
     "shell.execute_reply": "2021-05-29T22:11:31.822009Z",
     "shell.execute_reply.started": "2021-05-29T22:11:31.818031Z"
    },
    "tags": []
   },
   "outputs": [
    {
     "name": "stdout",
     "output_type": "stream",
     "text": [
      "Feature importances: [59, 68, 100, 151, 50, 16, 116, 3, 116, 119, 65, 17, 5, 34, 4, 9, 7, 110, 45, 73]\n"
     ]
    }
   ],
   "source": [
    "print('Feature importances:', list(gbm.feature_importance()))"
   ]
  },
  {
   "cell_type": "code",
   "execution_count": 32,
   "id": "3e946cf1-8066-4f01-8885-3ad3f9087642",
   "metadata": {
    "execution": {
     "iopub.execute_input": "2021-05-29T22:13:40.719144Z",
     "iopub.status.busy": "2021-05-29T22:13:40.719035Z",
     "iopub.status.idle": "2021-05-29T22:13:41.030452Z",
     "shell.execute_reply": "2021-05-29T22:13:41.030071Z",
     "shell.execute_reply.started": "2021-05-29T22:13:40.719131Z"
    },
    "tags": []
   },
   "outputs": [],
   "source": [
    "y_val_pred = gbm.predict(x_val)"
   ]
  },
  {
   "cell_type": "code",
   "execution_count": 33,
   "id": "c020b7a6-8734-417f-9de3-f4cb0061fc98",
   "metadata": {
    "execution": {
     "iopub.execute_input": "2021-05-29T22:13:41.031160Z",
     "iopub.status.busy": "2021-05-29T22:13:41.031041Z",
     "iopub.status.idle": "2021-05-29T22:13:42.494420Z",
     "shell.execute_reply": "2021-05-29T22:13:42.494110Z",
     "shell.execute_reply.started": "2021-05-29T22:13:41.031145Z"
    },
    "tags": []
   },
   "outputs": [
    {
     "data": {
      "text/plain": [
       "0.6666628400218885"
      ]
     },
     "execution_count": 33,
     "metadata": {},
     "output_type": "execute_result"
    }
   ],
   "source": [
    "f1_score(y_val, pd.DataFrame(y_val_pred).idxmax(axis=1), average='macro')"
   ]
  },
  {
   "cell_type": "code",
   "execution_count": 29,
   "id": "2f8f95c0-8f6b-4aae-9d1d-5083c3c77c60",
   "metadata": {
    "execution": {
     "iopub.execute_input": "2021-05-29T20:46:08.879673Z",
     "iopub.status.busy": "2021-05-29T20:46:08.879257Z",
     "iopub.status.idle": "2021-05-29T20:46:10.509891Z",
     "shell.execute_reply": "2021-05-29T20:46:10.509467Z",
     "shell.execute_reply.started": "2021-05-29T20:46:08.879641Z"
    },
    "tags": []
   },
   "outputs": [
    {
     "data": {
      "text/plain": [
       "0.44991296120408475"
      ]
     },
     "execution_count": 29,
     "metadata": {},
     "output_type": "execute_result"
    }
   ],
   "source": [
    "f1_score(y_val, pd.DataFrame(y_val_pred).idxmax(axis=1), average='macro')"
   ]
  },
  {
   "cell_type": "code",
   "execution_count": 9,
   "id": "9251e6c2-eee9-4f02-b729-dad356d639fc",
   "metadata": {
    "execution": {
     "iopub.execute_input": "2021-05-29T20:13:34.879531Z",
     "iopub.status.busy": "2021-05-29T20:13:34.879367Z",
     "iopub.status.idle": "2021-05-29T20:13:34.882369Z",
     "shell.execute_reply": "2021-05-29T20:13:34.881963Z",
     "shell.execute_reply.started": "2021-05-29T20:13:34.879510Z"
    },
    "tags": []
   },
   "outputs": [],
   "source": [
    "clf = lgb.LGBMClassifier(\n",
    "    max_depth=-1,\n",
    "    #     learning_rate=0.05,\n",
    "    objective=\"multiclass\",\n",
    "    random_state=42,\n",
    "    silent=False,\n",
    "    metric=\"None\",\n",
    "    n_jobs=4,\n",
    "    n_estimators=10,\n",
    "    class_weight=\"balanced\",\n",
    ")"
   ]
  },
  {
   "cell_type": "code",
   "execution_count": 11,
   "id": "807c5a4b-a2b9-445b-9e8b-bc2055abec6c",
   "metadata": {
    "execution": {
     "iopub.execute_input": "2021-05-29T19:05:11.841079Z",
     "iopub.status.busy": "2021-05-29T19:05:11.840872Z",
     "iopub.status.idle": "2021-05-29T19:07:32.132174Z",
     "shell.execute_reply": "2021-05-29T19:07:32.131671Z",
     "shell.execute_reply.started": "2021-05-29T19:05:11.841058Z"
    },
    "tags": []
   },
   "outputs": [
    {
     "name": "stdout",
     "output_type": "stream",
     "text": [
      "[LightGBM] [Warning] Auto-choosing row-wise multi-threading, the overhead of testing was 2.864649 seconds.\n",
      "You can set `force_row_wise=true` to remove the overhead.\n",
      "And if memory is not enough, you can set `force_col_wise=true`.\n",
      "[LightGBM] [Info] Total Bins 1448\n",
      "[LightGBM] [Info] Number of data points in the train set: 127447278, number of used features: 20\n",
      "[LightGBM] [Info] Start training from score -1.386294\n",
      "[LightGBM] [Info] Start training from score -1.386294\n",
      "[LightGBM] [Info] Start training from score -1.386294\n",
      "[LightGBM] [Info] Start training from score -1.386294\n",
      "[LightGBM] [Warning] No further splits with positive gain, best gain: -inf\n",
      "[LightGBM] [Warning] No further splits with positive gain, best gain: -inf\n"
     ]
    },
    {
     "data": {
      "text/plain": [
       "LGBMClassifier(class_weight='balanced', metric='None', n_estimators=10,\n",
       "               n_jobs=4, objective='multiclass', random_state=42, silent=False,\n",
       "               verbose=1)"
      ]
     },
     "execution_count": 11,
     "metadata": {},
     "output_type": "execute_result"
    }
   ],
   "source": [
    "clf.fit(\n",
    "    x_train,\n",
    "    y_train,\n",
    "    # early_stopping_rounds=300,\n",
    "    eval_metric=evaluate_macroF1_lgb,\n",
    "    #     eval_set=[(X_test, y_test)]\n",
    "    # eval_names=[\"train\", \"early_stop\"],\n",
    ")"
   ]
  },
  {
   "cell_type": "code",
   "execution_count": 12,
   "id": "581f8787-f6e0-4e77-92b2-1ba2712e0cd4",
   "metadata": {
    "execution": {
     "iopub.execute_input": "2021-05-29T19:07:32.132935Z",
     "iopub.status.busy": "2021-05-29T19:07:32.132825Z",
     "iopub.status.idle": "2021-05-29T19:07:32.139262Z",
     "shell.execute_reply": "2021-05-29T19:07:32.138789Z",
     "shell.execute_reply.started": "2021-05-29T19:07:32.132921Z"
    },
    "tags": []
   },
   "outputs": [
    {
     "data": {
      "text/plain": [
       "['../data/3_track/lgb_lag.pkl']"
      ]
     },
     "execution_count": 12,
     "metadata": {},
     "output_type": "execute_result"
    }
   ],
   "source": [
    "joblib.dump(clf, os.path.join(DATA_PATH, 'lgb_lag_early_stop.pkl'))"
   ]
  },
  {
   "cell_type": "code",
   "execution_count": 14,
   "id": "7a97dc5c-9bc6-4836-9788-6cf79faeca53",
   "metadata": {
    "execution": {
     "iopub.execute_input": "2021-05-29T17:10:49.021271Z",
     "iopub.status.busy": "2021-05-29T17:10:49.020982Z",
     "iopub.status.idle": "2021-05-29T17:10:49.039162Z",
     "shell.execute_reply": "2021-05-29T17:10:49.038749Z",
     "shell.execute_reply.started": "2021-05-29T17:10:49.021241Z"
    },
    "tags": []
   },
   "outputs": [],
   "source": [
    "clf = joblib.load(os.path.join(DATA_PATH, 'lgb_lag.pkl'))"
   ]
  },
  {
   "cell_type": "code",
   "execution_count": 48,
   "id": "1560242b-7fd0-42d0-aee9-3cd6d9daa372",
   "metadata": {
    "execution": {
     "iopub.execute_input": "2021-05-29T18:05:31.476587Z",
     "iopub.status.busy": "2021-05-29T18:05:31.476471Z",
     "iopub.status.idle": "2021-05-29T18:05:31.479476Z",
     "shell.execute_reply": "2021-05-29T18:05:31.478631Z",
     "shell.execute_reply.started": "2021-05-29T18:05:31.476574Z"
    },
    "tags": []
   },
   "outputs": [],
   "source": [
    "from sklearn.metrics import f1_score"
   ]
  },
  {
   "cell_type": "code",
   "execution_count": 115,
   "id": "9260a17e-dda8-4c5d-9756-04448389b6a7",
   "metadata": {
    "execution": {
     "iopub.execute_input": "2021-05-29T19:27:23.483860Z",
     "iopub.status.busy": "2021-05-29T19:27:23.483425Z",
     "iopub.status.idle": "2021-05-29T19:27:40.712483Z",
     "shell.execute_reply": "2021-05-29T19:27:40.711902Z",
     "shell.execute_reply.started": "2021-05-29T19:27:23.483809Z"
    },
    "tags": []
   },
   "outputs": [],
   "source": [
    "# train = pd.read_pickle(os.path.join(DATA_PATH, \"train.pkl\"))\n",
    "# traffic = pd.read_pickle(os.path.join(DATA_PATH, \"traffic.pkl\"))\n",
    "# repair = pd.read_pickle(os.path.join(DATA_PATH, \"repair.pkl\"))\n",
    "# crash_parts = pd.read_pickle(os.path.join(DATA_PATH, \"crash_parts.pkl\"))\n",
    "# atmos = pd.read_pickle(os.path.join(DATA_PATH, \"atmos.pkl\"))\n",
    "# meteo = pd.read_pickle(os.path.join(DATA_PATH, \"meteo.pkl\"))\n",
    "# tele2_data = pd.read_pickle(os.path.join(DATA_PATH, \"tele2_data.pkl\"))\n",
    "# test = pd.read_pickle(os.path.join(DATA_PATH, \"test.pkl\"))\n",
    "\n",
    "grid = pd.read_pickle(os.path.join(DATA_PATH, \"grid_lag.pkl\"))"
   ]
  },
  {
   "cell_type": "code",
   "execution_count": 116,
   "id": "1b99d0e2-56c9-4473-ab15-1d333cc2cc8f",
   "metadata": {
    "execution": {
     "iopub.execute_input": "2021-05-29T19:27:40.713232Z",
     "iopub.status.busy": "2021-05-29T19:27:40.713121Z",
     "iopub.status.idle": "2021-05-29T19:27:52.365900Z",
     "shell.execute_reply": "2021-05-29T19:27:52.365237Z",
     "shell.execute_reply.started": "2021-05-29T19:27:40.713218Z"
    },
    "tags": []
   },
   "outputs": [],
   "source": [
    "grid = grid[(grid.dt_year >= 2020)]"
   ]
  },
  {
   "cell_type": "code",
   "execution_count": 117,
   "id": "25b7e3da-17a0-4bdd-9eb5-8d4ab32030b2",
   "metadata": {
    "execution": {
     "iopub.execute_input": "2021-05-29T19:27:52.366852Z",
     "iopub.status.busy": "2021-05-29T19:27:52.366737Z",
     "iopub.status.idle": "2021-05-29T19:27:54.980723Z",
     "shell.execute_reply": "2021-05-29T19:27:54.980350Z",
     "shell.execute_reply.started": "2021-05-29T19:27:52.366837Z"
    },
    "tags": []
   },
   "outputs": [],
   "source": [
    "y_val = grid.target\n",
    "x_val = grid.drop(columns=['target'])\n",
    "%reset_selective -f grid\n",
    "\n",
    "y_val.to_pickle(os.path.join(DATA_PATH, \"y_val.pkl\"))\n",
    "%reset_selective -f y_val\n",
    "x_val.to_pickle(os.path.join(DATA_PATH, \"x_val.pkl\"))\n",
    "%reset_selective -f x_val"
   ]
  },
  {
   "cell_type": "code",
   "execution_count": 118,
   "id": "0df9c1ed-088c-4383-bc3d-3c66204272ed",
   "metadata": {
    "execution": {
     "iopub.execute_input": "2021-05-29T19:27:54.981495Z",
     "iopub.status.busy": "2021-05-29T19:27:54.981384Z",
     "iopub.status.idle": "2021-05-29T19:27:56.162307Z",
     "shell.execute_reply": "2021-05-29T19:27:56.161457Z",
     "shell.execute_reply.started": "2021-05-29T19:27:54.981480Z"
    },
    "tags": []
   },
   "outputs": [],
   "source": [
    "y_val = pd.read_pickle(os.path.join(DATA_PATH, \"y_val.pkl\"))\n",
    "x_val = pd.read_pickle(os.path.join(DATA_PATH, \"x_val.pkl\"))"
   ]
  },
  {
   "cell_type": "code",
   "execution_count": 119,
   "id": "96cbd8ee-1344-479c-a852-f65a4fc93d56",
   "metadata": {
    "execution": {
     "iopub.execute_input": "2021-05-29T19:27:56.163109Z",
     "iopub.status.busy": "2021-05-29T19:27:56.162990Z",
     "iopub.status.idle": "2021-05-29T19:28:00.587775Z",
     "shell.execute_reply": "2021-05-29T19:28:00.587156Z",
     "shell.execute_reply.started": "2021-05-29T19:27:56.163094Z"
    },
    "tags": []
   },
   "outputs": [],
   "source": [
    "y_val_pred = clf.predict(x_val)"
   ]
  },
  {
   "cell_type": "code",
   "execution_count": 121,
   "id": "a1af2eae-d7db-46b0-abfd-01c6feaf3029",
   "metadata": {
    "execution": {
     "iopub.execute_input": "2021-05-29T19:28:05.923646Z",
     "iopub.status.busy": "2021-05-29T19:28:05.923482Z",
     "iopub.status.idle": "2021-05-29T19:28:11.251813Z",
     "shell.execute_reply": "2021-05-29T19:28:11.251167Z",
     "shell.execute_reply.started": "2021-05-29T19:28:05.923623Z"
    },
    "tags": []
   },
   "outputs": [
    {
     "data": {
      "text/plain": [
       "0.7487980292905455"
      ]
     },
     "execution_count": 121,
     "metadata": {},
     "output_type": "execute_result"
    }
   ],
   "source": [
    "# с лагами + 10 predictors\n",
    "f1_score(y_val, y_val_pred, average='macro')"
   ]
  },
  {
   "cell_type": "code",
   "execution_count": 56,
   "id": "10993070-1b1a-4626-ace6-77f584abae21",
   "metadata": {
    "execution": {
     "iopub.execute_input": "2021-05-29T18:18:48.767860Z",
     "iopub.status.busy": "2021-05-29T18:18:48.767644Z",
     "iopub.status.idle": "2021-05-29T18:18:54.035593Z",
     "shell.execute_reply": "2021-05-29T18:18:54.034754Z",
     "shell.execute_reply.started": "2021-05-29T18:18:48.767837Z"
    },
    "tags": []
   },
   "outputs": [
    {
     "data": {
      "text/plain": [
       "0.33330989627929336"
      ]
     },
     "execution_count": 56,
     "metadata": {},
     "output_type": "execute_result"
    }
   ],
   "source": [
    "f1_score(y_val, np.zeros_like(y_val), average='macro')"
   ]
  },
  {
   "cell_type": "markdown",
   "id": "a94f7c67-5945-47cd-ad98-9563e438ea19",
   "metadata": {
    "tags": []
   },
   "source": [
    "### Test 1"
   ]
  },
  {
   "cell_type": "code",
   "execution_count": 34,
   "id": "3f9677db-f0b7-4522-befc-7fe5b8b05084",
   "metadata": {
    "execution": {
     "iopub.execute_input": "2021-05-29T22:15:52.336160Z",
     "iopub.status.busy": "2021-05-29T22:15:52.335753Z",
     "iopub.status.idle": "2021-05-29T22:15:54.675566Z",
     "shell.execute_reply": "2021-05-29T22:15:54.674674Z",
     "shell.execute_reply.started": "2021-05-29T22:15:52.336142Z"
    },
    "tags": []
   },
   "outputs": [],
   "source": [
    "# test data\n",
    "test = pd.read_csv(os.path.join(DATA_PATH, \"test_new.csv\"))\n",
    "test = convertDate(\n",
    "    test, [\"datetime\"], [\"dt\"], suffix=[\"year\", \"month\", \"day\", \"hour\"]\n",
    ")\n",
    "test.drop(columns=[\"datetime\"], inplace=True)\n",
    "test.sort_values(\n",
    "    [\"road_id\", \"road_km\", \"dt_year\", \"dt_month\", \"dt_day\", \"dt_hour\"], inplace=True\n",
    ")\n",
    "test.drop(columns=['target'], inplace=True)\n",
    "test.to_pickle(os.path.join(DATA_PATH, \"test.pkl\"))\n"
   ]
  },
  {
   "cell_type": "code",
   "execution_count": 5,
   "id": "cb1ea250-7792-424e-b3b5-00489bc2c6f4",
   "metadata": {
    "execution": {
     "iopub.execute_input": "2021-05-29T22:17:41.304256Z",
     "iopub.status.busy": "2021-05-29T22:17:41.303840Z",
     "iopub.status.idle": "2021-05-29T22:17:41.387489Z",
     "shell.execute_reply": "2021-05-29T22:17:41.386377Z",
     "shell.execute_reply.started": "2021-05-29T22:17:41.304206Z"
    },
    "tags": []
   },
   "outputs": [],
   "source": [
    "test = pd.read_pickle(os.path.join(DATA_PATH, \"test.pkl\"))"
   ]
  },
  {
   "cell_type": "code",
   "execution_count": null,
   "id": "469296f3-e0f2-4ed6-8235-9ecb099f7162",
   "metadata": {
    "execution": {
     "iopub.execute_input": "2021-05-29T22:17:42.385568Z",
     "iopub.status.busy": "2021-05-29T22:17:42.385095Z"
    },
    "tags": []
   },
   "outputs": [],
   "source": [
    "grid = pd.read_pickle(os.path.join(DATA_PATH, \"grid_lag.pkl\"))"
   ]
  },
  {
   "cell_type": "code",
   "execution_count": null,
   "id": "14e3ec25-8b0d-4cb2-b632-49b08316247d",
   "metadata": {
    "tags": []
   },
   "outputs": [],
   "source": [
    "grid.head()"
   ]
  },
  {
   "cell_type": "code",
   "execution_count": 35,
   "id": "b8e87834-e365-4efd-afcb-1fb292ed275f",
   "metadata": {
    "execution": {
     "iopub.execute_input": "2021-05-29T19:38:01.583302Z",
     "iopub.status.busy": "2021-05-29T19:38:01.583185Z",
     "iopub.status.idle": "2021-05-29T19:38:52.682483Z",
     "shell.execute_reply": "2021-05-29T19:38:52.681325Z",
     "shell.execute_reply.started": "2021-05-29T19:38:01.583287Z"
    },
    "tags": []
   },
   "outputs": [],
   "source": [
    "test = test.merge(\n",
    "    grid,\n",
    "    how=\"left\",\n",
    "    on=[\"road_id\", \"road_km\", \"dt_year\", \"dt_month\", \"dt_day\", \"dt_hour\"],\n",
    ")"
   ]
  },
  {
   "cell_type": "code",
   "execution_count": null,
   "id": "2e98144c-a86e-4881-a3e1-404b25576c5f",
   "metadata": {
    "tags": []
   },
   "outputs": [],
   "source": [
    "test.to_pickle(os.path.join(DATA_PATH, \"grid_test.pkl\"))"
   ]
  },
  {
   "cell_type": "code",
   "execution_count": 40,
   "id": "29ca6319-ce20-4f70-b977-4795c7844711",
   "metadata": {
    "execution": {
     "iopub.execute_input": "2021-05-29T19:38:54.469964Z",
     "iopub.status.busy": "2021-05-29T19:38:54.469852Z",
     "iopub.status.idle": "2021-05-29T19:38:54.476212Z",
     "shell.execute_reply": "2021-05-29T19:38:54.475705Z",
     "shell.execute_reply.started": "2021-05-29T19:38:54.469950Z"
    },
    "tags": []
   },
   "outputs": [],
   "source": [
    "%reset_selective -f grid"
   ]
  },
  {
   "cell_type": "code",
   "execution_count": 5,
   "id": "fb6ee8b2-7b50-41f0-9084-e029dc2b119e",
   "metadata": {
    "execution": {
     "iopub.execute_input": "2021-05-29T22:18:26.070117Z",
     "iopub.status.busy": "2021-05-29T22:18:26.069931Z",
     "iopub.status.idle": "2021-05-29T22:18:26.329967Z",
     "shell.execute_reply": "2021-05-29T22:18:26.329350Z",
     "shell.execute_reply.started": "2021-05-29T22:18:26.070098Z"
    },
    "tags": []
   },
   "outputs": [],
   "source": [
    "test = pd.read_pickle(os.path.join(DATA_PATH, \"grid_test.pkl\"))"
   ]
  },
  {
   "cell_type": "code",
   "execution_count": 6,
   "id": "5afcd65b-0646-4eb5-ab9c-225911e76bc3",
   "metadata": {
    "execution": {
     "iopub.execute_input": "2021-05-29T22:18:28.675697Z",
     "iopub.status.busy": "2021-05-29T22:18:28.675513Z",
     "iopub.status.idle": "2021-05-29T22:18:29.082220Z",
     "shell.execute_reply": "2021-05-29T22:18:29.081828Z",
     "shell.execute_reply.started": "2021-05-29T22:18:28.675678Z"
    },
    "tags": []
   },
   "outputs": [],
   "source": [
    "y_val = test.target\n",
    "x_val = test.drop(columns=['target'])\n",
    "%reset_selective -f test\n",
    "\n",
    "y_val.to_pickle(os.path.join(DATA_PATH, \"y_test.pkl\"))\n",
    "%reset_selective -f y_val\n",
    "x_val.to_pickle(os.path.join(DATA_PATH, \"x_test.pkl\"))\n",
    "%reset_selective -f x_val"
   ]
  },
  {
   "cell_type": "code",
   "execution_count": 7,
   "id": "9f434867-50d2-4138-82c2-59cfcc96b6d0",
   "metadata": {
    "execution": {
     "iopub.execute_input": "2021-05-29T22:18:29.082980Z",
     "iopub.status.busy": "2021-05-29T22:18:29.082861Z",
     "iopub.status.idle": "2021-05-29T22:18:29.235345Z",
     "shell.execute_reply": "2021-05-29T22:18:29.234986Z",
     "shell.execute_reply.started": "2021-05-29T22:18:29.082965Z"
    },
    "tags": []
   },
   "outputs": [],
   "source": [
    "y_val = pd.read_pickle(os.path.join(DATA_PATH, \"y_test.pkl\"))\n",
    "x_val = pd.read_pickle(os.path.join(DATA_PATH, \"x_test.pkl\"))"
   ]
  },
  {
   "cell_type": "code",
   "execution_count": 8,
   "id": "e199dc6b-9c76-46c2-85f6-2267db98f9b3",
   "metadata": {
    "execution": {
     "iopub.execute_input": "2021-05-29T22:19:30.697042Z",
     "iopub.status.busy": "2021-05-29T22:19:30.696872Z",
     "iopub.status.idle": "2021-05-29T22:19:30.720501Z",
     "shell.execute_reply": "2021-05-29T22:19:30.720088Z",
     "shell.execute_reply.started": "2021-05-29T22:19:30.697025Z"
    },
    "tags": []
   },
   "outputs": [],
   "source": [
    "gbm = joblib.load(os.path.join(DATA_PATH, 'gbm_train.pkl'))"
   ]
  },
  {
   "cell_type": "code",
   "execution_count": 32,
   "id": "2f6fa18e-2caa-4daa-b001-1c2040ee6d44",
   "metadata": {
    "execution": {
     "iopub.execute_input": "2021-05-29T22:13:40.719144Z",
     "iopub.status.busy": "2021-05-29T22:13:40.719035Z",
     "iopub.status.idle": "2021-05-29T22:13:41.030452Z",
     "shell.execute_reply": "2021-05-29T22:13:41.030071Z",
     "shell.execute_reply.started": "2021-05-29T22:13:40.719131Z"
    },
    "tags": []
   },
   "outputs": [],
   "source": [
    "y_val_pred = gbm.predict(x_val)"
   ]
  },
  {
   "cell_type": "code",
   "execution_count": 15,
   "id": "5bd057f2-ca17-492c-b289-8d719e91c751",
   "metadata": {
    "execution": {
     "iopub.execute_input": "2021-05-29T22:20:53.408968Z",
     "iopub.status.busy": "2021-05-29T22:20:53.408660Z",
     "iopub.status.idle": "2021-05-29T22:20:54.741874Z",
     "shell.execute_reply": "2021-05-29T22:20:54.741554Z",
     "shell.execute_reply.started": "2021-05-29T22:20:53.408932Z"
    },
    "tags": []
   },
   "outputs": [
    {
     "data": {
      "text/plain": [
       "array([0, 1, 2])"
      ]
     },
     "execution_count": 15,
     "metadata": {},
     "output_type": "execute_result"
    }
   ],
   "source": [
    "pd.DataFrame(y_val_pred).idxmax(axis=1)"
   ]
  },
  {
   "cell_type": "code",
   "execution_count": 10,
   "id": "365034d5-d9bd-434e-b94e-92bd1e9a7647",
   "metadata": {
    "execution": {
     "iopub.execute_input": "2021-05-29T22:19:44.960326Z",
     "iopub.status.busy": "2021-05-29T22:19:44.960086Z",
     "iopub.status.idle": "2021-05-29T22:19:46.419000Z",
     "shell.execute_reply": "2021-05-29T22:19:46.418488Z",
     "shell.execute_reply.started": "2021-05-29T22:19:44.960298Z"
    },
    "tags": []
   },
   "outputs": [
    {
     "data": {
      "text/plain": [
       "0.6666628400218885"
      ]
     },
     "execution_count": 10,
     "metadata": {},
     "output_type": "execute_result"
    }
   ],
   "source": [
    "f1_score(y_val, pd.DataFrame(y_val_pred).idxmax(axis=1), average='macro')"
   ]
  },
  {
   "cell_type": "code",
   "execution_count": 20,
   "id": "cd4f4a34-071c-49f5-a777-1c0ba069e4af",
   "metadata": {
    "execution": {
     "iopub.execute_input": "2021-05-29T22:23:30.113156Z",
     "iopub.status.busy": "2021-05-29T22:23:30.112832Z",
     "iopub.status.idle": "2021-05-29T22:23:31.734689Z",
     "shell.execute_reply": "2021-05-29T22:23:31.734128Z",
     "shell.execute_reply.started": "2021-05-29T22:23:30.113138Z"
    },
    "tags": []
   },
   "outputs": [],
   "source": [
    "test = pd.read_csv(os.path.join(DATA_PATH, \"test_new.csv\"))\n",
    "test = convertDate(\n",
    "    test, [\"datetime\"], [\"dt\"], suffix=[\"year\", \"month\", \"day\", \"hour\"]\n",
    ")"
   ]
  },
  {
   "cell_type": "code",
   "execution_count": 22,
   "id": "6260f723-7033-47e4-b102-f7317a7a39af",
   "metadata": {
    "execution": {
     "iopub.execute_input": "2021-05-29T22:24:08.906692Z",
     "iopub.status.busy": "2021-05-29T22:24:08.906479Z",
     "iopub.status.idle": "2021-05-29T22:24:10.115232Z",
     "shell.execute_reply": "2021-05-29T22:24:10.114580Z",
     "shell.execute_reply.started": "2021-05-29T22:24:08.906668Z"
    }
   },
   "outputs": [],
   "source": [
    "x_val['target'] = pd.DataFrame(y_val_pred).idxmax(axis=1)"
   ]
  },
  {
   "cell_type": "code",
   "execution_count": 21,
   "id": "6c34d468-662a-4cc0-9616-ca312ced59bf",
   "metadata": {
    "execution": {
     "iopub.execute_input": "2021-05-29T22:23:31.735538Z",
     "iopub.status.busy": "2021-05-29T22:23:31.735406Z",
     "iopub.status.idle": "2021-05-29T22:23:31.801691Z",
     "shell.execute_reply": "2021-05-29T22:23:31.800914Z",
     "shell.execute_reply.started": "2021-05-29T22:23:31.735518Z"
    },
    "tags": []
   },
   "outputs": [],
   "source": [
    "test.drop(columns='target', inplace=True)"
   ]
  },
  {
   "cell_type": "code",
   "execution_count": 26,
   "id": "ed4237b3-6796-458b-9daa-013a210ee14a",
   "metadata": {
    "execution": {
     "iopub.execute_input": "2021-05-29T22:25:46.038045Z",
     "iopub.status.busy": "2021-05-29T22:25:46.037625Z",
     "iopub.status.idle": "2021-05-29T22:25:46.585726Z",
     "shell.execute_reply": "2021-05-29T22:25:46.585331Z",
     "shell.execute_reply.started": "2021-05-29T22:25:46.037995Z"
    },
    "tags": []
   },
   "outputs": [],
   "source": [
    "test = test.merge(\n",
    "    x_val[[\"road_id\", \"road_km\", \"dt_year\", \"dt_month\", \"dt_day\", \"dt_hour\", \"target\"]],\n",
    "    how=\"left\",\n",
    "    on=[\"road_id\", \"road_km\", \"dt_year\", \"dt_month\", \"dt_day\", \"dt_hour\"],\n",
    ")"
   ]
  },
  {
   "cell_type": "code",
   "execution_count": 28,
   "id": "5c4c7d7f-3388-4942-8ef3-cdc71c372e74",
   "metadata": {
    "execution": {
     "iopub.execute_input": "2021-05-29T22:26:00.005206Z",
     "iopub.status.busy": "2021-05-29T22:26:00.004769Z",
     "iopub.status.idle": "2021-05-29T22:26:00.077113Z",
     "shell.execute_reply": "2021-05-29T22:26:00.076679Z",
     "shell.execute_reply.started": "2021-05-29T22:26:00.005155Z"
    },
    "tags": []
   },
   "outputs": [],
   "source": [
    "test.drop(columns=[\"dt_year\", \"dt_month\", \"dt_day\", \"dt_hour\"], inplace=True)"
   ]
  },
  {
   "cell_type": "code",
   "execution_count": 31,
   "id": "b8ef6072-5060-4434-b1d2-0e996e87c016",
   "metadata": {
    "execution": {
     "iopub.execute_input": "2021-05-29T22:26:20.897842Z",
     "iopub.status.busy": "2021-05-29T22:26:20.897425Z",
     "iopub.status.idle": "2021-05-29T22:26:22.965699Z",
     "shell.execute_reply": "2021-05-29T22:26:22.964914Z",
     "shell.execute_reply.started": "2021-05-29T22:26:20.897792Z"
    },
    "tags": []
   },
   "outputs": [],
   "source": [
    "test.to_csv(os.path.join(SUBMIT_PATH, \"test.csv\"))"
   ]
  },
  {
   "cell_type": "code",
   "execution_count": 35,
   "id": "224d4ef6-27be-484c-bbb4-6f3de2eae550",
   "metadata": {
    "execution": {
     "iopub.execute_input": "2021-05-29T22:29:58.701303Z",
     "iopub.status.busy": "2021-05-29T22:29:58.700875Z",
     "iopub.status.idle": "2021-05-29T22:29:58.705709Z",
     "shell.execute_reply": "2021-05-29T22:29:58.704787Z",
     "shell.execute_reply.started": "2021-05-29T22:29:58.701250Z"
    },
    "tags": []
   },
   "outputs": [],
   "source": [
    "from check_submit import is_valid_csv"
   ]
  },
  {
   "cell_type": "code",
   "execution_count": null,
   "id": "186069f1-eddf-4071-87e6-987c427eb250",
   "metadata": {},
   "outputs": [],
   "source": [
    "is_valid_csv()"
   ]
  },
  {
   "cell_type": "markdown",
   "id": "6fc968e1-81cb-49fa-8b11-a40dfc8b0f84",
   "metadata": {
    "tags": []
   },
   "source": [
    "### Test"
   ]
  },
  {
   "cell_type": "code",
   "execution_count": 30,
   "id": "230436a1-b69e-44a8-809c-1ccef947f902",
   "metadata": {
    "execution": {
     "iopub.execute_input": "2021-05-29T19:37:49.545282Z",
     "iopub.status.busy": "2021-05-29T19:37:49.544855Z",
     "iopub.status.idle": "2021-05-29T19:37:52.005566Z",
     "shell.execute_reply": "2021-05-29T19:37:52.004695Z",
     "shell.execute_reply.started": "2021-05-29T19:37:49.545230Z"
    },
    "tags": []
   },
   "outputs": [],
   "source": [
    "# test data\n",
    "test = pd.read_csv(os.path.join(DATA_PATH, \"test_new.csv\"))\n",
    "test = convertDate(\n",
    "    test, [\"datetime\"], [\"dt\"], suffix=[\"year\", \"month\", \"day\", \"hour\"]\n",
    ")\n",
    "test.drop(columns=[\"datetime\"], inplace=True)\n",
    "test.sort_values(\n",
    "    [\"road_id\", \"road_km\", \"dt_year\", \"dt_month\", \"dt_day\", \"dt_hour\"], inplace=True\n",
    ")\n",
    "test.drop(columns=['target'], inplace=True)\n",
    "test.to_pickle(os.path.join(DATA_PATH, \"test.pkl\"))\n"
   ]
  },
  {
   "cell_type": "code",
   "execution_count": 31,
   "id": "a260b813-af76-40b2-a82b-9a31a03a96e2",
   "metadata": {
    "execution": {
     "iopub.execute_input": "2021-05-29T19:37:52.006547Z",
     "iopub.status.busy": "2021-05-29T19:37:52.006423Z",
     "iopub.status.idle": "2021-05-29T19:37:52.013836Z",
     "shell.execute_reply": "2021-05-29T19:37:52.013011Z",
     "shell.execute_reply.started": "2021-05-29T19:37:52.006531Z"
    },
    "tags": []
   },
   "outputs": [
    {
     "data": {
      "text/html": [
       "<div>\n",
       "<style scoped>\n",
       "    .dataframe tbody tr th:only-of-type {\n",
       "        vertical-align: middle;\n",
       "    }\n",
       "\n",
       "    .dataframe tbody tr th {\n",
       "        vertical-align: top;\n",
       "    }\n",
       "\n",
       "    .dataframe thead th {\n",
       "        text-align: right;\n",
       "    }\n",
       "</style>\n",
       "<table border=\"1\" class=\"dataframe\">\n",
       "  <thead>\n",
       "    <tr style=\"text-align: right;\">\n",
       "      <th></th>\n",
       "      <th>road_id</th>\n",
       "      <th>road_km</th>\n",
       "      <th>dt_year</th>\n",
       "      <th>dt_month</th>\n",
       "      <th>dt_day</th>\n",
       "      <th>dt_hour</th>\n",
       "    </tr>\n",
       "  </thead>\n",
       "  <tbody>\n",
       "    <tr>\n",
       "      <th>0</th>\n",
       "      <td>9</td>\n",
       "      <td>0</td>\n",
       "      <td>2020</td>\n",
       "      <td>1</td>\n",
       "      <td>1</td>\n",
       "      <td>1</td>\n",
       "    </tr>\n",
       "    <tr>\n",
       "      <th>2776</th>\n",
       "      <td>9</td>\n",
       "      <td>0</td>\n",
       "      <td>2020</td>\n",
       "      <td>1</td>\n",
       "      <td>1</td>\n",
       "      <td>2</td>\n",
       "    </tr>\n",
       "    <tr>\n",
       "      <th>5552</th>\n",
       "      <td>9</td>\n",
       "      <td>0</td>\n",
       "      <td>2020</td>\n",
       "      <td>1</td>\n",
       "      <td>1</td>\n",
       "      <td>3</td>\n",
       "    </tr>\n",
       "    <tr>\n",
       "      <th>8328</th>\n",
       "      <td>9</td>\n",
       "      <td>0</td>\n",
       "      <td>2020</td>\n",
       "      <td>1</td>\n",
       "      <td>1</td>\n",
       "      <td>4</td>\n",
       "    </tr>\n",
       "    <tr>\n",
       "      <th>11104</th>\n",
       "      <td>9</td>\n",
       "      <td>0</td>\n",
       "      <td>2020</td>\n",
       "      <td>1</td>\n",
       "      <td>1</td>\n",
       "      <td>5</td>\n",
       "    </tr>\n",
       "  </tbody>\n",
       "</table>\n",
       "</div>"
      ],
      "text/plain": [
       "       road_id  road_km  dt_year  dt_month  dt_day  dt_hour\n",
       "0            9        0     2020         1       1        1\n",
       "2776         9        0     2020         1       1        2\n",
       "5552         9        0     2020         1       1        3\n",
       "8328         9        0     2020         1       1        4\n",
       "11104        9        0     2020         1       1        5"
      ]
     },
     "execution_count": 31,
     "metadata": {},
     "output_type": "execute_result"
    }
   ],
   "source": [
    "test.head()"
   ]
  },
  {
   "cell_type": "code",
   "execution_count": 32,
   "id": "2b964a15-3d60-4684-9876-3b88e8d591f3",
   "metadata": {
    "execution": {
     "iopub.execute_input": "2021-05-29T19:37:52.015795Z",
     "iopub.status.busy": "2021-05-29T19:37:52.015481Z",
     "iopub.status.idle": "2021-05-29T19:37:52.192721Z",
     "shell.execute_reply": "2021-05-29T19:37:52.192123Z",
     "shell.execute_reply.started": "2021-05-29T19:37:52.015752Z"
    },
    "tags": []
   },
   "outputs": [],
   "source": [
    "test = pd.read_pickle(os.path.join(DATA_PATH, \"test.pkl\"))"
   ]
  },
  {
   "cell_type": "code",
   "execution_count": 33,
   "id": "c34d1bfd-b9c2-4c0c-b8fb-e8937b8bf507",
   "metadata": {
    "execution": {
     "iopub.execute_input": "2021-05-29T19:37:52.194019Z",
     "iopub.status.busy": "2021-05-29T19:37:52.193817Z",
     "iopub.status.idle": "2021-05-29T19:38:01.572042Z",
     "shell.execute_reply": "2021-05-29T19:38:01.571110Z",
     "shell.execute_reply.started": "2021-05-29T19:37:52.193986Z"
    },
    "tags": []
   },
   "outputs": [],
   "source": [
    "grid = pd.read_pickle(os.path.join(DATA_PATH, \"grid_lag.pkl\"))"
   ]
  },
  {
   "cell_type": "code",
   "execution_count": 34,
   "id": "8b47dcd0-0022-4eb5-8b16-5a769301890d",
   "metadata": {
    "execution": {
     "iopub.execute_input": "2021-05-29T19:38:01.572969Z",
     "iopub.status.busy": "2021-05-29T19:38:01.572846Z",
     "iopub.status.idle": "2021-05-29T19:38:01.582556Z",
     "shell.execute_reply": "2021-05-29T19:38:01.581818Z",
     "shell.execute_reply.started": "2021-05-29T19:38:01.572953Z"
    },
    "tags": []
   },
   "outputs": [
    {
     "data": {
      "text/html": [
       "<div>\n",
       "<style scoped>\n",
       "    .dataframe tbody tr th:only-of-type {\n",
       "        vertical-align: middle;\n",
       "    }\n",
       "\n",
       "    .dataframe tbody tr th {\n",
       "        vertical-align: top;\n",
       "    }\n",
       "\n",
       "    .dataframe thead th {\n",
       "        text-align: right;\n",
       "    }\n",
       "</style>\n",
       "<table border=\"1\" class=\"dataframe\">\n",
       "  <thead>\n",
       "    <tr style=\"text-align: right;\">\n",
       "      <th></th>\n",
       "      <th>dt_year</th>\n",
       "      <th>dt_month</th>\n",
       "      <th>dt_day</th>\n",
       "      <th>dt_hour</th>\n",
       "      <th>dt_dotw</th>\n",
       "      <th>dt_workDay</th>\n",
       "      <th>dt_week</th>\n",
       "      <th>road_id</th>\n",
       "      <th>road_km</th>\n",
       "      <th>lat</th>\n",
       "      <th>lon</th>\n",
       "      <th>man_injured_num</th>\n",
       "      <th>man_dead_num</th>\n",
       "      <th>car_damaged_num</th>\n",
       "      <th>target</th>\n",
       "      <th>lane</th>\n",
       "      <th>lane_count</th>\n",
       "      <th>direction</th>\n",
       "      <th>volume</th>\n",
       "      <th>occupancy</th>\n",
       "      <th>speed</th>\n",
       "    </tr>\n",
       "  </thead>\n",
       "  <tbody>\n",
       "    <tr>\n",
       "      <th>2819</th>\n",
       "      <td>2012</td>\n",
       "      <td>1</td>\n",
       "      <td>1</td>\n",
       "      <td>2</td>\n",
       "      <td>7</td>\n",
       "      <td>0</td>\n",
       "      <td>52</td>\n",
       "      <td>9</td>\n",
       "      <td>0</td>\n",
       "      <td>57.55</td>\n",
       "      <td>39.79</td>\n",
       "      <td>0</td>\n",
       "      <td>0</td>\n",
       "      <td>0</td>\n",
       "      <td>0.00</td>\n",
       "      <td>1</td>\n",
       "      <td>1</td>\n",
       "      <td>0.50</td>\n",
       "      <td>39</td>\n",
       "      <td>1</td>\n",
       "      <td>73</td>\n",
       "    </tr>\n",
       "    <tr>\n",
       "      <th>5638</th>\n",
       "      <td>2012</td>\n",
       "      <td>1</td>\n",
       "      <td>1</td>\n",
       "      <td>3</td>\n",
       "      <td>7</td>\n",
       "      <td>0</td>\n",
       "      <td>52</td>\n",
       "      <td>9</td>\n",
       "      <td>0</td>\n",
       "      <td>57.55</td>\n",
       "      <td>39.79</td>\n",
       "      <td>0</td>\n",
       "      <td>0</td>\n",
       "      <td>0</td>\n",
       "      <td>0.00</td>\n",
       "      <td>1</td>\n",
       "      <td>1</td>\n",
       "      <td>0.50</td>\n",
       "      <td>39</td>\n",
       "      <td>1</td>\n",
       "      <td>73</td>\n",
       "    </tr>\n",
       "    <tr>\n",
       "      <th>8457</th>\n",
       "      <td>2012</td>\n",
       "      <td>1</td>\n",
       "      <td>1</td>\n",
       "      <td>4</td>\n",
       "      <td>7</td>\n",
       "      <td>0</td>\n",
       "      <td>52</td>\n",
       "      <td>9</td>\n",
       "      <td>0</td>\n",
       "      <td>57.55</td>\n",
       "      <td>39.79</td>\n",
       "      <td>0</td>\n",
       "      <td>0</td>\n",
       "      <td>0</td>\n",
       "      <td>0.00</td>\n",
       "      <td>1</td>\n",
       "      <td>1</td>\n",
       "      <td>0.50</td>\n",
       "      <td>39</td>\n",
       "      <td>1</td>\n",
       "      <td>73</td>\n",
       "    </tr>\n",
       "    <tr>\n",
       "      <th>11276</th>\n",
       "      <td>2012</td>\n",
       "      <td>1</td>\n",
       "      <td>1</td>\n",
       "      <td>5</td>\n",
       "      <td>7</td>\n",
       "      <td>0</td>\n",
       "      <td>52</td>\n",
       "      <td>9</td>\n",
       "      <td>0</td>\n",
       "      <td>57.55</td>\n",
       "      <td>39.79</td>\n",
       "      <td>0</td>\n",
       "      <td>0</td>\n",
       "      <td>0</td>\n",
       "      <td>0.00</td>\n",
       "      <td>1</td>\n",
       "      <td>1</td>\n",
       "      <td>0.50</td>\n",
       "      <td>39</td>\n",
       "      <td>1</td>\n",
       "      <td>73</td>\n",
       "    </tr>\n",
       "    <tr>\n",
       "      <th>14095</th>\n",
       "      <td>2012</td>\n",
       "      <td>1</td>\n",
       "      <td>1</td>\n",
       "      <td>6</td>\n",
       "      <td>7</td>\n",
       "      <td>0</td>\n",
       "      <td>52</td>\n",
       "      <td>9</td>\n",
       "      <td>0</td>\n",
       "      <td>57.55</td>\n",
       "      <td>39.79</td>\n",
       "      <td>0</td>\n",
       "      <td>0</td>\n",
       "      <td>0</td>\n",
       "      <td>0.00</td>\n",
       "      <td>1</td>\n",
       "      <td>1</td>\n",
       "      <td>0.50</td>\n",
       "      <td>39</td>\n",
       "      <td>1</td>\n",
       "      <td>73</td>\n",
       "    </tr>\n",
       "  </tbody>\n",
       "</table>\n",
       "</div>"
      ],
      "text/plain": [
       "       dt_year  dt_month  dt_day  dt_hour  dt_dotw  dt_workDay  dt_week  \\\n",
       "2819      2012         1       1        2        7           0       52   \n",
       "5638      2012         1       1        3        7           0       52   \n",
       "8457      2012         1       1        4        7           0       52   \n",
       "11276     2012         1       1        5        7           0       52   \n",
       "14095     2012         1       1        6        7           0       52   \n",
       "\n",
       "       road_id  road_km   lat   lon  man_injured_num  man_dead_num  \\\n",
       "2819         9        0 57.55 39.79                0             0   \n",
       "5638         9        0 57.55 39.79                0             0   \n",
       "8457         9        0 57.55 39.79                0             0   \n",
       "11276        9        0 57.55 39.79                0             0   \n",
       "14095        9        0 57.55 39.79                0             0   \n",
       "\n",
       "       car_damaged_num  target  lane  lane_count  direction  volume  \\\n",
       "2819                 0    0.00     1           1       0.50      39   \n",
       "5638                 0    0.00     1           1       0.50      39   \n",
       "8457                 0    0.00     1           1       0.50      39   \n",
       "11276                0    0.00     1           1       0.50      39   \n",
       "14095                0    0.00     1           1       0.50      39   \n",
       "\n",
       "       occupancy  speed  \n",
       "2819           1     73  \n",
       "5638           1     73  \n",
       "8457           1     73  \n",
       "11276          1     73  \n",
       "14095          1     73  "
      ]
     },
     "execution_count": 34,
     "metadata": {},
     "output_type": "execute_result"
    }
   ],
   "source": [
    "grid.head()"
   ]
  },
  {
   "cell_type": "code",
   "execution_count": 35,
   "id": "e2c8d229-66bc-45bd-9268-36ee04a8a51e",
   "metadata": {
    "execution": {
     "iopub.execute_input": "2021-05-29T19:38:01.583302Z",
     "iopub.status.busy": "2021-05-29T19:38:01.583185Z",
     "iopub.status.idle": "2021-05-29T19:38:52.682483Z",
     "shell.execute_reply": "2021-05-29T19:38:52.681325Z",
     "shell.execute_reply.started": "2021-05-29T19:38:01.583287Z"
    },
    "tags": []
   },
   "outputs": [],
   "source": [
    "test = test.merge(\n",
    "    grid,\n",
    "    how=\"left\",\n",
    "    on=[\"road_id\", \"road_km\", \"dt_year\", \"dt_month\", \"dt_day\", \"dt_hour\"],\n",
    ")"
   ]
  },
  {
   "cell_type": "code",
   "execution_count": 36,
   "id": "e840e103-8dd1-4438-b8e0-34dc83a80416",
   "metadata": {
    "execution": {
     "iopub.execute_input": "2021-05-29T19:38:52.850605Z",
     "iopub.status.busy": "2021-05-29T19:38:52.849995Z",
     "iopub.status.idle": "2021-05-29T19:38:53.099802Z",
     "shell.execute_reply": "2021-05-29T19:38:53.099216Z",
     "shell.execute_reply.started": "2021-05-29T19:38:52.850550Z"
    }
   },
   "outputs": [],
   "source": [
    "test.to_pickle(os.path.join(DATA_PATH, \"grid_test.pkl\"))"
   ]
  },
  {
   "cell_type": "code",
   "execution_count": 40,
   "id": "22cb4e44-874f-4939-8f1d-c6fbba48327c",
   "metadata": {
    "execution": {
     "iopub.execute_input": "2021-05-29T19:38:54.469964Z",
     "iopub.status.busy": "2021-05-29T19:38:54.469852Z",
     "iopub.status.idle": "2021-05-29T19:38:54.476212Z",
     "shell.execute_reply": "2021-05-29T19:38:54.475705Z",
     "shell.execute_reply.started": "2021-05-29T19:38:54.469950Z"
    },
    "tags": []
   },
   "outputs": [],
   "source": [
    "%reset_selective -f grid"
   ]
  },
  {
   "cell_type": "code",
   "execution_count": 41,
   "id": "88cc94b0-f094-47c3-bbcd-9fcb0e4e108f",
   "metadata": {
    "execution": {
     "iopub.execute_input": "2021-05-29T19:38:55.264232Z",
     "iopub.status.busy": "2021-05-29T19:38:55.264057Z",
     "iopub.status.idle": "2021-05-29T19:38:55.411815Z",
     "shell.execute_reply": "2021-05-29T19:38:55.411014Z",
     "shell.execute_reply.started": "2021-05-29T19:38:55.264214Z"
    }
   },
   "outputs": [],
   "source": [
    "test = pd.read_pickle(os.path.join(DATA_PATH, \"grid_test.pkl\"))"
   ]
  },
  {
   "cell_type": "code",
   "execution_count": 42,
   "id": "b2261745-c59f-4945-8321-beb22337324c",
   "metadata": {
    "execution": {
     "iopub.execute_input": "2021-05-29T19:38:59.171395Z",
     "iopub.status.busy": "2021-05-29T19:38:59.171170Z",
     "iopub.status.idle": "2021-05-29T19:38:59.542157Z",
     "shell.execute_reply": "2021-05-29T19:38:59.541571Z",
     "shell.execute_reply.started": "2021-05-29T19:38:59.171368Z"
    },
    "tags": []
   },
   "outputs": [],
   "source": [
    "y_val = test.target\n",
    "x_val = test.drop(columns=['target'])\n",
    "%reset_selective -f test\n",
    "\n",
    "y_val.to_pickle(os.path.join(DATA_PATH, \"y_test.pkl\"))\n",
    "%reset_selective -f y_val\n",
    "x_val.to_pickle(os.path.join(DATA_PATH, \"x_test.pkl\"))\n",
    "%reset_selective -f x_val"
   ]
  },
  {
   "cell_type": "code",
   "execution_count": 43,
   "id": "55a7030d-329b-4fd8-9bb7-ddbab915d532",
   "metadata": {
    "execution": {
     "iopub.execute_input": "2021-05-29T19:39:01.211194Z",
     "iopub.status.busy": "2021-05-29T19:39:01.210953Z",
     "iopub.status.idle": "2021-05-29T19:39:01.380108Z",
     "shell.execute_reply": "2021-05-29T19:39:01.379520Z",
     "shell.execute_reply.started": "2021-05-29T19:39:01.211167Z"
    },
    "tags": []
   },
   "outputs": [],
   "source": [
    "y_val = pd.read_pickle(os.path.join(DATA_PATH, \"y_test.pkl\"))\n",
    "x_val = pd.read_pickle(os.path.join(DATA_PATH, \"x_test.pkl\"))"
   ]
  },
  {
   "cell_type": "code",
   "execution_count": 44,
   "id": "40e66875-d9ab-4ef6-af1b-b65bac6a4720",
   "metadata": {
    "execution": {
     "iopub.execute_input": "2021-05-29T19:39:03.428254Z",
     "iopub.status.busy": "2021-05-29T19:39:03.428019Z",
     "iopub.status.idle": "2021-05-29T19:39:03.459311Z",
     "shell.execute_reply": "2021-05-29T19:39:03.458715Z",
     "shell.execute_reply.started": "2021-05-29T19:39:03.428227Z"
    },
    "tags": []
   },
   "outputs": [],
   "source": [
    "clf = joblib.load(os.path.join(DATA_PATH, 'lgb_lag.pkl'))"
   ]
  },
  {
   "cell_type": "code",
   "execution_count": 45,
   "id": "3e2a27d1-f81f-4eed-b0b4-af3f39d0a64b",
   "metadata": {
    "execution": {
     "iopub.execute_input": "2021-05-29T19:39:04.789852Z",
     "iopub.status.busy": "2021-05-29T19:39:04.789235Z",
     "iopub.status.idle": "2021-05-29T19:39:05.192898Z",
     "shell.execute_reply": "2021-05-29T19:39:05.192525Z",
     "shell.execute_reply.started": "2021-05-29T19:39:04.789767Z"
    },
    "tags": []
   },
   "outputs": [],
   "source": [
    "y_val_pred = clf.predict(x_val)"
   ]
  },
  {
   "cell_type": "code",
   "execution_count": 46,
   "id": "bf643af1-1c52-48c8-9c74-1306da1222da",
   "metadata": {
    "execution": {
     "iopub.execute_input": "2021-05-29T19:39:05.730987Z",
     "iopub.status.busy": "2021-05-29T19:39:05.730831Z",
     "iopub.status.idle": "2021-05-29T19:39:06.202546Z",
     "shell.execute_reply": "2021-05-29T19:39:06.202039Z",
     "shell.execute_reply.started": "2021-05-29T19:39:05.730970Z"
    },
    "tags": []
   },
   "outputs": [
    {
     "data": {
      "text/plain": [
       "0.49396271966192157"
      ]
     },
     "execution_count": 46,
     "metadata": {},
     "output_type": "execute_result"
    }
   ],
   "source": [
    "f1_score(y_val, y_val_pred, average='macro')"
   ]
  },
  {
   "cell_type": "code",
   "execution_count": 97,
   "id": "411181c5-582d-48d4-acb3-49cdd9264550",
   "metadata": {
    "execution": {
     "iopub.execute_input": "2021-05-29T19:23:40.754451Z",
     "iopub.status.busy": "2021-05-29T19:23:40.754329Z",
     "iopub.status.idle": "2021-05-29T19:23:40.846572Z",
     "shell.execute_reply": "2021-05-29T19:23:40.846168Z",
     "shell.execute_reply.started": "2021-05-29T19:23:40.754437Z"
    },
    "tags": []
   },
   "outputs": [],
   "source": [
    "x_val = x_val[[\"road_id\", \"road_km\", \"dt_year\", \"dt_month\", \"dt_day\", \"dt_hour\"]]"
   ]
  },
  {
   "cell_type": "code",
   "execution_count": 98,
   "id": "5d87189f-6211-4bcd-a90c-7ea37a6b4a9b",
   "metadata": {
    "execution": {
     "iopub.execute_input": "2021-05-29T19:23:40.847228Z",
     "iopub.status.busy": "2021-05-29T19:23:40.847121Z",
     "iopub.status.idle": "2021-05-29T19:23:40.909636Z",
     "shell.execute_reply": "2021-05-29T19:23:40.909055Z",
     "shell.execute_reply.started": "2021-05-29T19:23:40.847214Z"
    },
    "tags": []
   },
   "outputs": [],
   "source": [
    "x_val['target'] = y_val"
   ]
  },
  {
   "cell_type": "code",
   "execution_count": 99,
   "id": "58a74cad-6999-4b69-ab93-e399cd405429",
   "metadata": {
    "execution": {
     "iopub.execute_input": "2021-05-29T19:23:40.910388Z",
     "iopub.status.busy": "2021-05-29T19:23:40.910266Z",
     "iopub.status.idle": "2021-05-29T19:23:40.934585Z",
     "shell.execute_reply": "2021-05-29T19:23:40.934231Z",
     "shell.execute_reply.started": "2021-05-29T19:23:40.910372Z"
    },
    "tags": []
   },
   "outputs": [],
   "source": [
    "x_val.target = x_val.target.astype(np.int16)"
   ]
  },
  {
   "cell_type": "code",
   "execution_count": 100,
   "id": "9fd7a6be-7490-4bf0-bc0d-72bab7559360",
   "metadata": {
    "execution": {
     "iopub.execute_input": "2021-05-29T19:23:40.935578Z",
     "iopub.status.busy": "2021-05-29T19:23:40.935459Z",
     "iopub.status.idle": "2021-05-29T19:23:41.685515Z",
     "shell.execute_reply": "2021-05-29T19:23:41.685144Z",
     "shell.execute_reply.started": "2021-05-29T19:23:40.935563Z"
    },
    "tags": []
   },
   "outputs": [],
   "source": [
    "x_val.dropna(inplace=True)"
   ]
  },
  {
   "cell_type": "code",
   "execution_count": 101,
   "id": "855658c1-f0a3-463a-b97b-56ff809a7905",
   "metadata": {
    "execution": {
     "iopub.execute_input": "2021-05-29T19:23:41.686229Z",
     "iopub.status.busy": "2021-05-29T19:23:41.686120Z",
     "iopub.status.idle": "2021-05-29T19:23:43.272996Z",
     "shell.execute_reply": "2021-05-29T19:23:43.272412Z",
     "shell.execute_reply.started": "2021-05-29T19:23:41.686215Z"
    },
    "tags": []
   },
   "outputs": [],
   "source": [
    "test = pd.read_csv(os.path.join(DATA_PATH, \"test_new.csv\"))\n",
    "test = convertDate(\n",
    "    test, [\"datetime\"], [\"dt\"], suffix=[\"year\", \"month\", \"day\", \"hour\"]\n",
    ")"
   ]
  },
  {
   "cell_type": "code",
   "execution_count": 102,
   "id": "72592f50-27f0-45f8-8196-7807fe4c6bf4",
   "metadata": {
    "execution": {
     "iopub.execute_input": "2021-05-29T19:23:43.273719Z",
     "iopub.status.busy": "2021-05-29T19:23:43.273605Z",
     "iopub.status.idle": "2021-05-29T19:23:43.347454Z",
     "shell.execute_reply": "2021-05-29T19:23:43.346817Z",
     "shell.execute_reply.started": "2021-05-29T19:23:43.273704Z"
    },
    "tags": []
   },
   "outputs": [],
   "source": [
    "test.drop(columns='target', inplace=True)"
   ]
  },
  {
   "cell_type": "code",
   "execution_count": 103,
   "id": "03d402d5-a322-410f-9b62-27237a5420e8",
   "metadata": {
    "execution": {
     "iopub.execute_input": "2021-05-29T19:23:43.350476Z",
     "iopub.status.busy": "2021-05-29T19:23:43.350299Z",
     "iopub.status.idle": "2021-05-29T19:23:46.453718Z",
     "shell.execute_reply": "2021-05-29T19:23:46.453260Z",
     "shell.execute_reply.started": "2021-05-29T19:23:43.350455Z"
    },
    "tags": []
   },
   "outputs": [],
   "source": [
    "test = x_val.merge(\n",
    "    test,\n",
    "    how=\"right\",\n",
    "    on=[\"road_id\", \"road_km\", \"dt_year\", \"dt_month\", \"dt_day\", \"dt_hour\"],\n",
    ")"
   ]
  },
  {
   "cell_type": "code",
   "execution_count": 104,
   "id": "77218c83-becd-4738-80e2-8b9c37912d51",
   "metadata": {
    "execution": {
     "iopub.execute_input": "2021-05-29T19:23:46.454663Z",
     "iopub.status.busy": "2021-05-29T19:23:46.454497Z",
     "iopub.status.idle": "2021-05-29T19:23:46.470240Z",
     "shell.execute_reply": "2021-05-29T19:23:46.469713Z",
     "shell.execute_reply.started": "2021-05-29T19:23:46.454641Z"
    },
    "tags": []
   },
   "outputs": [],
   "source": [
    "test.drop(columns=[\"dt_year\", \"dt_month\", \"dt_day\", \"dt_hour\"], inplace=True)"
   ]
  },
  {
   "cell_type": "code",
   "execution_count": 105,
   "id": "c7e4f249-df46-43a1-ba1b-a1dfdcfe591f",
   "metadata": {
    "execution": {
     "iopub.execute_input": "2021-05-29T19:23:46.471036Z",
     "iopub.status.busy": "2021-05-29T19:23:46.470848Z",
     "iopub.status.idle": "2021-05-29T19:23:46.485991Z",
     "shell.execute_reply": "2021-05-29T19:23:46.485552Z",
     "shell.execute_reply.started": "2021-05-29T19:23:46.471019Z"
    },
    "tags": []
   },
   "outputs": [],
   "source": [
    "test = test[['datetime', 'road_id', 'road_km', 'target']]"
   ]
  },
  {
   "cell_type": "code",
   "execution_count": 106,
   "id": "5012e506-1c3d-4a80-b8ff-b987a337ab18",
   "metadata": {
    "execution": {
     "iopub.execute_input": "2021-05-29T19:23:46.487098Z",
     "iopub.status.busy": "2021-05-29T19:23:46.486964Z",
     "iopub.status.idle": "2021-05-29T19:23:46.493657Z",
     "shell.execute_reply": "2021-05-29T19:23:46.492992Z",
     "shell.execute_reply.started": "2021-05-29T19:23:46.487082Z"
    },
    "tags": []
   },
   "outputs": [],
   "source": [
    "test = test[test.target != 0]"
   ]
  },
  {
   "cell_type": "code",
   "execution_count": 107,
   "id": "1e8551a5-db97-4128-bc84-5efeee71ffb4",
   "metadata": {
    "execution": {
     "iopub.execute_input": "2021-05-29T19:23:52.633436Z",
     "iopub.status.busy": "2021-05-29T19:23:52.633202Z",
     "iopub.status.idle": "2021-05-29T19:23:52.639863Z",
     "shell.execute_reply": "2021-05-29T19:23:52.639408Z",
     "shell.execute_reply.started": "2021-05-29T19:23:52.633410Z"
    },
    "tags": []
   },
   "outputs": [
    {
     "data": {
      "text/html": [
       "<div>\n",
       "<style scoped>\n",
       "    .dataframe tbody tr th:only-of-type {\n",
       "        vertical-align: middle;\n",
       "    }\n",
       "\n",
       "    .dataframe tbody tr th {\n",
       "        vertical-align: top;\n",
       "    }\n",
       "\n",
       "    .dataframe thead th {\n",
       "        text-align: right;\n",
       "    }\n",
       "</style>\n",
       "<table border=\"1\" class=\"dataframe\">\n",
       "  <thead>\n",
       "    <tr style=\"text-align: right;\">\n",
       "      <th></th>\n",
       "      <th>datetime</th>\n",
       "      <th>road_id</th>\n",
       "      <th>road_km</th>\n",
       "      <th>target</th>\n",
       "    </tr>\n",
       "  </thead>\n",
       "  <tbody>\n",
       "    <tr>\n",
       "      <th>2701</th>\n",
       "      <td>2020-01-01 01:00:00</td>\n",
       "      <td>14</td>\n",
       "      <td>1406</td>\n",
       "      <td>1</td>\n",
       "    </tr>\n",
       "    <tr>\n",
       "      <th>821919</th>\n",
       "      <td>2020-07-13 00:00:00</td>\n",
       "      <td>14</td>\n",
       "      <td>19</td>\n",
       "      <td>1</td>\n",
       "    </tr>\n",
       "    <tr>\n",
       "      <th>1302182</th>\n",
       "      <td>2020-10-19 00:00:00</td>\n",
       "      <td>14</td>\n",
       "      <td>27</td>\n",
       "      <td>1</td>\n",
       "    </tr>\n",
       "  </tbody>\n",
       "</table>\n",
       "</div>"
      ],
      "text/plain": [
       "                    datetime  road_id  road_km  target\n",
       "2701     2020-01-01 01:00:00       14     1406       1\n",
       "821919   2020-07-13 00:00:00       14       19       1\n",
       "1302182  2020-10-19 00:00:00       14       27       1"
      ]
     },
     "execution_count": 107,
     "metadata": {},
     "output_type": "execute_result"
    }
   ],
   "source": [
    "test.head()"
   ]
  },
  {
   "cell_type": "code",
   "execution_count": 92,
   "id": "e681d288-255e-43dc-9162-05f3d6524ad2",
   "metadata": {
    "execution": {
     "iopub.execute_input": "2021-05-29T19:23:18.866524Z",
     "iopub.status.busy": "2021-05-29T19:23:18.866307Z",
     "iopub.status.idle": "2021-05-29T19:23:18.872252Z",
     "shell.execute_reply": "2021-05-29T19:23:18.871680Z",
     "shell.execute_reply.started": "2021-05-29T19:23:18.866501Z"
    },
    "tags": []
   },
   "outputs": [
    {
     "data": {
      "text/html": [
       "<div>\n",
       "<style scoped>\n",
       "    .dataframe tbody tr th:only-of-type {\n",
       "        vertical-align: middle;\n",
       "    }\n",
       "\n",
       "    .dataframe tbody tr th {\n",
       "        vertical-align: top;\n",
       "    }\n",
       "\n",
       "    .dataframe thead th {\n",
       "        text-align: right;\n",
       "    }\n",
       "</style>\n",
       "<table border=\"1\" class=\"dataframe\">\n",
       "  <thead>\n",
       "    <tr style=\"text-align: right;\">\n",
       "      <th></th>\n",
       "      <th>datetime</th>\n",
       "      <th>road_id</th>\n",
       "      <th>road_km</th>\n",
       "      <th>target</th>\n",
       "    </tr>\n",
       "  </thead>\n",
       "  <tbody>\n",
       "  </tbody>\n",
       "</table>\n",
       "</div>"
      ],
      "text/plain": [
       "Empty DataFrame\n",
       "Columns: [datetime, road_id, road_km, target]\n",
       "Index: []"
      ]
     },
     "execution_count": 92,
     "metadata": {},
     "output_type": "execute_result"
    }
   ],
   "source": [
    "test"
   ]
  },
  {
   "cell_type": "code",
   "execution_count": 91,
   "id": "6fb5526f-b372-403e-8486-ff6f8cc45bf4",
   "metadata": {
    "execution": {
     "iopub.execute_input": "2021-05-29T19:22:38.138871Z",
     "iopub.status.busy": "2021-05-29T19:22:38.138461Z",
     "iopub.status.idle": "2021-05-29T19:22:38.146628Z",
     "shell.execute_reply": "2021-05-29T19:22:38.145680Z",
     "shell.execute_reply.started": "2021-05-29T19:22:38.138820Z"
    },
    "tags": []
   },
   "outputs": [],
   "source": [
    "test.to_csv(os.path.join(SUBMIT_PATH, \"test.csv\"))"
   ]
  }
 ],
 "metadata": {
  "kernelspec": {
   "display_name": "Python 3",
   "language": "python",
   "name": "python3"
  },
  "language_info": {
   "codemirror_mode": {
    "name": "ipython",
    "version": 3
   },
   "file_extension": ".py",
   "mimetype": "text/x-python",
   "name": "python",
   "nbconvert_exporter": "python",
   "pygments_lexer": "ipython3",
   "version": "3.7.10"
  }
 },
 "nbformat": 4,
 "nbformat_minor": 5
}
